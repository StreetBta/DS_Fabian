{
  "nbformat": 4,
  "nbformat_minor": 0,
  "metadata": {
    "colab": {
      "provenance": [],
      "collapsed_sections": [],
      "mount_file_id": "1WgSdIR_743OlQ_8hMEcZnwAlAJ2JthcX",
      "authorship_tag": "ABX9TyNCjQpx+jmje0fhc2hIlmmq",
      "include_colab_link": true
    },
    "kernelspec": {
      "name": "python3",
      "display_name": "Python 3"
    },
    "language_info": {
      "name": "python"
    }
  },
  "cells": [
    {
      "cell_type": "markdown",
      "metadata": {
        "id": "view-in-github",
        "colab_type": "text"
      },
      "source": [
        "<a href=\"https://colab.research.google.com/github/StreetBta/DS_Fabian/blob/main/EjercicioClase6.ipynb\" target=\"_parent\"><img src=\"https://colab.research.google.com/assets/colab-badge.svg\" alt=\"Open In Colab\"/></a>"
      ]
    },
    {
      "cell_type": "code",
      "execution_count": null,
      "metadata": {
        "id": "MsXqCsaO1v2K"
      },
      "outputs": [],
      "source": [
        "import sys\n",
        "import numpy as np\n",
        "import pandas as pd\n",
        "import sklearn as sk\n",
        "import seaborn as sns\n",
        "from sklearn.model_selection import train_test_split\n",
        "from sklearn.linear_model import LinearRegression\n",
        "from sklearn.linear_model import Lasso #Regresion linear\n",
        "from sklearn.linear_model import Ridge #Regresion\n",
        "from sklearn.linear_model import ElasticNet #Regresion\n",
        "from sklearn import metrics\n",
        "import matplotlib.pyplot as plt"
      ]
    },
    {
      "cell_type": "code",
      "source": [
        "df = pd.read_csv('/content/drive/MyDrive/Colab Notebooks/BTC-USD.csv')  #Con mi Data de BTC\n",
        "df "
      ],
      "metadata": {
        "colab": {
          "base_uri": "https://localhost:8080/",
          "height": 423
        },
        "id": "0Sf7d63e11Vt",
        "outputId": "54d3b7c4-e45f-4b9c-d5af-e8172835da2c"
      },
      "execution_count": null,
      "outputs": [
        {
          "output_type": "execute_result",
          "data": {
            "text/plain": [
              "            Date          Open          High           Low         Close  \\\n",
              "0     2014-09-17    465.864014    468.174011    452.421997    457.334015   \n",
              "1     2014-09-18    456.859985    456.859985    413.104004    424.440002   \n",
              "2     2014-09-19    424.102997    427.834991    384.532013    394.795990   \n",
              "3     2014-09-20    394.673004    423.295990    389.882996    408.903992   \n",
              "4     2014-09-21    408.084991    412.425995    393.181000    398.821014   \n",
              "...          ...           ...           ...           ...           ...   \n",
              "2742  2022-03-21  41246.132813  41454.410156  40668.042969  41077.996094   \n",
              "2743  2022-03-22  41074.105469  43124.707031  40948.281250  42358.808594   \n",
              "2744  2022-03-23  42364.378906  42893.507813  41877.507813  42892.957031   \n",
              "2745  2022-03-24  42886.652344  44131.855469  42726.164063  43960.933594   \n",
              "2746  2022-03-25  43958.675781  44982.519531  43711.871094  44395.964844   \n",
              "\n",
              "         Adj Close       Volume  \n",
              "0       457.334015     21056800  \n",
              "1       424.440002     34483200  \n",
              "2       394.795990     37919700  \n",
              "3       408.903992     36863600  \n",
              "4       398.821014     26580100  \n",
              "...            ...          ...  \n",
              "2742  41077.996094  24615543271  \n",
              "2743  42358.808594  32004652376  \n",
              "2744  42892.957031  25242943069  \n",
              "2745  43960.933594  31042992291  \n",
              "2746  44395.964844  30379415552  \n",
              "\n",
              "[2747 rows x 7 columns]"
            ],
            "text/html": [
              "\n",
              "  <div id=\"df-cc45aa3e-0865-4e63-b03f-eb383a4957c7\">\n",
              "    <div class=\"colab-df-container\">\n",
              "      <div>\n",
              "<style scoped>\n",
              "    .dataframe tbody tr th:only-of-type {\n",
              "        vertical-align: middle;\n",
              "    }\n",
              "\n",
              "    .dataframe tbody tr th {\n",
              "        vertical-align: top;\n",
              "    }\n",
              "\n",
              "    .dataframe thead th {\n",
              "        text-align: right;\n",
              "    }\n",
              "</style>\n",
              "<table border=\"1\" class=\"dataframe\">\n",
              "  <thead>\n",
              "    <tr style=\"text-align: right;\">\n",
              "      <th></th>\n",
              "      <th>Date</th>\n",
              "      <th>Open</th>\n",
              "      <th>High</th>\n",
              "      <th>Low</th>\n",
              "      <th>Close</th>\n",
              "      <th>Adj Close</th>\n",
              "      <th>Volume</th>\n",
              "    </tr>\n",
              "  </thead>\n",
              "  <tbody>\n",
              "    <tr>\n",
              "      <th>0</th>\n",
              "      <td>2014-09-17</td>\n",
              "      <td>465.864014</td>\n",
              "      <td>468.174011</td>\n",
              "      <td>452.421997</td>\n",
              "      <td>457.334015</td>\n",
              "      <td>457.334015</td>\n",
              "      <td>21056800</td>\n",
              "    </tr>\n",
              "    <tr>\n",
              "      <th>1</th>\n",
              "      <td>2014-09-18</td>\n",
              "      <td>456.859985</td>\n",
              "      <td>456.859985</td>\n",
              "      <td>413.104004</td>\n",
              "      <td>424.440002</td>\n",
              "      <td>424.440002</td>\n",
              "      <td>34483200</td>\n",
              "    </tr>\n",
              "    <tr>\n",
              "      <th>2</th>\n",
              "      <td>2014-09-19</td>\n",
              "      <td>424.102997</td>\n",
              "      <td>427.834991</td>\n",
              "      <td>384.532013</td>\n",
              "      <td>394.795990</td>\n",
              "      <td>394.795990</td>\n",
              "      <td>37919700</td>\n",
              "    </tr>\n",
              "    <tr>\n",
              "      <th>3</th>\n",
              "      <td>2014-09-20</td>\n",
              "      <td>394.673004</td>\n",
              "      <td>423.295990</td>\n",
              "      <td>389.882996</td>\n",
              "      <td>408.903992</td>\n",
              "      <td>408.903992</td>\n",
              "      <td>36863600</td>\n",
              "    </tr>\n",
              "    <tr>\n",
              "      <th>4</th>\n",
              "      <td>2014-09-21</td>\n",
              "      <td>408.084991</td>\n",
              "      <td>412.425995</td>\n",
              "      <td>393.181000</td>\n",
              "      <td>398.821014</td>\n",
              "      <td>398.821014</td>\n",
              "      <td>26580100</td>\n",
              "    </tr>\n",
              "    <tr>\n",
              "      <th>...</th>\n",
              "      <td>...</td>\n",
              "      <td>...</td>\n",
              "      <td>...</td>\n",
              "      <td>...</td>\n",
              "      <td>...</td>\n",
              "      <td>...</td>\n",
              "      <td>...</td>\n",
              "    </tr>\n",
              "    <tr>\n",
              "      <th>2742</th>\n",
              "      <td>2022-03-21</td>\n",
              "      <td>41246.132813</td>\n",
              "      <td>41454.410156</td>\n",
              "      <td>40668.042969</td>\n",
              "      <td>41077.996094</td>\n",
              "      <td>41077.996094</td>\n",
              "      <td>24615543271</td>\n",
              "    </tr>\n",
              "    <tr>\n",
              "      <th>2743</th>\n",
              "      <td>2022-03-22</td>\n",
              "      <td>41074.105469</td>\n",
              "      <td>43124.707031</td>\n",
              "      <td>40948.281250</td>\n",
              "      <td>42358.808594</td>\n",
              "      <td>42358.808594</td>\n",
              "      <td>32004652376</td>\n",
              "    </tr>\n",
              "    <tr>\n",
              "      <th>2744</th>\n",
              "      <td>2022-03-23</td>\n",
              "      <td>42364.378906</td>\n",
              "      <td>42893.507813</td>\n",
              "      <td>41877.507813</td>\n",
              "      <td>42892.957031</td>\n",
              "      <td>42892.957031</td>\n",
              "      <td>25242943069</td>\n",
              "    </tr>\n",
              "    <tr>\n",
              "      <th>2745</th>\n",
              "      <td>2022-03-24</td>\n",
              "      <td>42886.652344</td>\n",
              "      <td>44131.855469</td>\n",
              "      <td>42726.164063</td>\n",
              "      <td>43960.933594</td>\n",
              "      <td>43960.933594</td>\n",
              "      <td>31042992291</td>\n",
              "    </tr>\n",
              "    <tr>\n",
              "      <th>2746</th>\n",
              "      <td>2022-03-25</td>\n",
              "      <td>43958.675781</td>\n",
              "      <td>44982.519531</td>\n",
              "      <td>43711.871094</td>\n",
              "      <td>44395.964844</td>\n",
              "      <td>44395.964844</td>\n",
              "      <td>30379415552</td>\n",
              "    </tr>\n",
              "  </tbody>\n",
              "</table>\n",
              "<p>2747 rows × 7 columns</p>\n",
              "</div>\n",
              "      <button class=\"colab-df-convert\" onclick=\"convertToInteractive('df-cc45aa3e-0865-4e63-b03f-eb383a4957c7')\"\n",
              "              title=\"Convert this dataframe to an interactive table.\"\n",
              "              style=\"display:none;\">\n",
              "        \n",
              "  <svg xmlns=\"http://www.w3.org/2000/svg\" height=\"24px\"viewBox=\"0 0 24 24\"\n",
              "       width=\"24px\">\n",
              "    <path d=\"M0 0h24v24H0V0z\" fill=\"none\"/>\n",
              "    <path d=\"M18.56 5.44l.94 2.06.94-2.06 2.06-.94-2.06-.94-.94-2.06-.94 2.06-2.06.94zm-11 1L8.5 8.5l.94-2.06 2.06-.94-2.06-.94L8.5 2.5l-.94 2.06-2.06.94zm10 10l.94 2.06.94-2.06 2.06-.94-2.06-.94-.94-2.06-.94 2.06-2.06.94z\"/><path d=\"M17.41 7.96l-1.37-1.37c-.4-.4-.92-.59-1.43-.59-.52 0-1.04.2-1.43.59L10.3 9.45l-7.72 7.72c-.78.78-.78 2.05 0 2.83L4 21.41c.39.39.9.59 1.41.59.51 0 1.02-.2 1.41-.59l7.78-7.78 2.81-2.81c.8-.78.8-2.07 0-2.86zM5.41 20L4 18.59l7.72-7.72 1.47 1.35L5.41 20z\"/>\n",
              "  </svg>\n",
              "      </button>\n",
              "      \n",
              "  <style>\n",
              "    .colab-df-container {\n",
              "      display:flex;\n",
              "      flex-wrap:wrap;\n",
              "      gap: 12px;\n",
              "    }\n",
              "\n",
              "    .colab-df-convert {\n",
              "      background-color: #E8F0FE;\n",
              "      border: none;\n",
              "      border-radius: 50%;\n",
              "      cursor: pointer;\n",
              "      display: none;\n",
              "      fill: #1967D2;\n",
              "      height: 32px;\n",
              "      padding: 0 0 0 0;\n",
              "      width: 32px;\n",
              "    }\n",
              "\n",
              "    .colab-df-convert:hover {\n",
              "      background-color: #E2EBFA;\n",
              "      box-shadow: 0px 1px 2px rgba(60, 64, 67, 0.3), 0px 1px 3px 1px rgba(60, 64, 67, 0.15);\n",
              "      fill: #174EA6;\n",
              "    }\n",
              "\n",
              "    [theme=dark] .colab-df-convert {\n",
              "      background-color: #3B4455;\n",
              "      fill: #D2E3FC;\n",
              "    }\n",
              "\n",
              "    [theme=dark] .colab-df-convert:hover {\n",
              "      background-color: #434B5C;\n",
              "      box-shadow: 0px 1px 3px 1px rgba(0, 0, 0, 0.15);\n",
              "      filter: drop-shadow(0px 1px 2px rgba(0, 0, 0, 0.3));\n",
              "      fill: #FFFFFF;\n",
              "    }\n",
              "  </style>\n",
              "\n",
              "      <script>\n",
              "        const buttonEl =\n",
              "          document.querySelector('#df-cc45aa3e-0865-4e63-b03f-eb383a4957c7 button.colab-df-convert');\n",
              "        buttonEl.style.display =\n",
              "          google.colab.kernel.accessAllowed ? 'block' : 'none';\n",
              "\n",
              "        async function convertToInteractive(key) {\n",
              "          const element = document.querySelector('#df-cc45aa3e-0865-4e63-b03f-eb383a4957c7');\n",
              "          const dataTable =\n",
              "            await google.colab.kernel.invokeFunction('convertToInteractive',\n",
              "                                                     [key], {});\n",
              "          if (!dataTable) return;\n",
              "\n",
              "          const docLinkHtml = 'Like what you see? Visit the ' +\n",
              "            '<a target=\"_blank\" href=https://colab.research.google.com/notebooks/data_table.ipynb>data table notebook</a>'\n",
              "            + ' to learn more about interactive tables.';\n",
              "          element.innerHTML = '';\n",
              "          dataTable['output_type'] = 'display_data';\n",
              "          await google.colab.output.renderOutput(dataTable, element);\n",
              "          const docLink = document.createElement('div');\n",
              "          docLink.innerHTML = docLinkHtml;\n",
              "          element.appendChild(docLink);\n",
              "        }\n",
              "      </script>\n",
              "    </div>\n",
              "  </div>\n",
              "  "
            ]
          },
          "metadata": {},
          "execution_count": 2
        }
      ]
    },
    {
      "cell_type": "code",
      "source": [
        "df.describe()"
      ],
      "metadata": {
        "colab": {
          "base_uri": "https://localhost:8080/",
          "height": 300
        },
        "id": "U-qrhhqf11Yv",
        "outputId": "d3cce26a-b3e5-45c3-d96f-30f29367a08e"
      },
      "execution_count": null,
      "outputs": [
        {
          "output_type": "execute_result",
          "data": {
            "text/plain": [
              "               Open          High           Low         Close     Adj Close  \\\n",
              "count   2747.000000   2747.000000   2747.000000   2747.000000   2747.000000   \n",
              "mean   11668.600272  11981.034949  11325.596907  11682.892098  11682.892098   \n",
              "std    16323.683853  16759.568657  15825.584507  16330.191582  16330.191582   \n",
              "min      176.897003    211.731003    171.509995    178.102997    178.102997   \n",
              "25%      609.122009    611.894501    606.309479    609.234009    609.234009   \n",
              "50%     6371.850098   6500.870117   6285.629883   6376.709961   6376.709961   \n",
              "75%    10728.271485  10992.468751  10412.890137  10755.395019  10755.395019   \n",
              "max    67549.734375  68789.625000  66382.062500  67566.828125  67566.828125   \n",
              "\n",
              "             Volume  \n",
              "count  2.747000e+03  \n",
              "mean   1.484704e+10  \n",
              "std    1.994819e+10  \n",
              "min    5.914570e+06  \n",
              "25%    8.161285e+07  \n",
              "50%    5.227550e+09  \n",
              "75%    2.500517e+10  \n",
              "max    3.509679e+11  "
            ],
            "text/html": [
              "\n",
              "  <div id=\"df-a81564e7-c42f-46ec-ac14-2b4de855be34\">\n",
              "    <div class=\"colab-df-container\">\n",
              "      <div>\n",
              "<style scoped>\n",
              "    .dataframe tbody tr th:only-of-type {\n",
              "        vertical-align: middle;\n",
              "    }\n",
              "\n",
              "    .dataframe tbody tr th {\n",
              "        vertical-align: top;\n",
              "    }\n",
              "\n",
              "    .dataframe thead th {\n",
              "        text-align: right;\n",
              "    }\n",
              "</style>\n",
              "<table border=\"1\" class=\"dataframe\">\n",
              "  <thead>\n",
              "    <tr style=\"text-align: right;\">\n",
              "      <th></th>\n",
              "      <th>Open</th>\n",
              "      <th>High</th>\n",
              "      <th>Low</th>\n",
              "      <th>Close</th>\n",
              "      <th>Adj Close</th>\n",
              "      <th>Volume</th>\n",
              "    </tr>\n",
              "  </thead>\n",
              "  <tbody>\n",
              "    <tr>\n",
              "      <th>count</th>\n",
              "      <td>2747.000000</td>\n",
              "      <td>2747.000000</td>\n",
              "      <td>2747.000000</td>\n",
              "      <td>2747.000000</td>\n",
              "      <td>2747.000000</td>\n",
              "      <td>2.747000e+03</td>\n",
              "    </tr>\n",
              "    <tr>\n",
              "      <th>mean</th>\n",
              "      <td>11668.600272</td>\n",
              "      <td>11981.034949</td>\n",
              "      <td>11325.596907</td>\n",
              "      <td>11682.892098</td>\n",
              "      <td>11682.892098</td>\n",
              "      <td>1.484704e+10</td>\n",
              "    </tr>\n",
              "    <tr>\n",
              "      <th>std</th>\n",
              "      <td>16323.683853</td>\n",
              "      <td>16759.568657</td>\n",
              "      <td>15825.584507</td>\n",
              "      <td>16330.191582</td>\n",
              "      <td>16330.191582</td>\n",
              "      <td>1.994819e+10</td>\n",
              "    </tr>\n",
              "    <tr>\n",
              "      <th>min</th>\n",
              "      <td>176.897003</td>\n",
              "      <td>211.731003</td>\n",
              "      <td>171.509995</td>\n",
              "      <td>178.102997</td>\n",
              "      <td>178.102997</td>\n",
              "      <td>5.914570e+06</td>\n",
              "    </tr>\n",
              "    <tr>\n",
              "      <th>25%</th>\n",
              "      <td>609.122009</td>\n",
              "      <td>611.894501</td>\n",
              "      <td>606.309479</td>\n",
              "      <td>609.234009</td>\n",
              "      <td>609.234009</td>\n",
              "      <td>8.161285e+07</td>\n",
              "    </tr>\n",
              "    <tr>\n",
              "      <th>50%</th>\n",
              "      <td>6371.850098</td>\n",
              "      <td>6500.870117</td>\n",
              "      <td>6285.629883</td>\n",
              "      <td>6376.709961</td>\n",
              "      <td>6376.709961</td>\n",
              "      <td>5.227550e+09</td>\n",
              "    </tr>\n",
              "    <tr>\n",
              "      <th>75%</th>\n",
              "      <td>10728.271485</td>\n",
              "      <td>10992.468751</td>\n",
              "      <td>10412.890137</td>\n",
              "      <td>10755.395019</td>\n",
              "      <td>10755.395019</td>\n",
              "      <td>2.500517e+10</td>\n",
              "    </tr>\n",
              "    <tr>\n",
              "      <th>max</th>\n",
              "      <td>67549.734375</td>\n",
              "      <td>68789.625000</td>\n",
              "      <td>66382.062500</td>\n",
              "      <td>67566.828125</td>\n",
              "      <td>67566.828125</td>\n",
              "      <td>3.509679e+11</td>\n",
              "    </tr>\n",
              "  </tbody>\n",
              "</table>\n",
              "</div>\n",
              "      <button class=\"colab-df-convert\" onclick=\"convertToInteractive('df-a81564e7-c42f-46ec-ac14-2b4de855be34')\"\n",
              "              title=\"Convert this dataframe to an interactive table.\"\n",
              "              style=\"display:none;\">\n",
              "        \n",
              "  <svg xmlns=\"http://www.w3.org/2000/svg\" height=\"24px\"viewBox=\"0 0 24 24\"\n",
              "       width=\"24px\">\n",
              "    <path d=\"M0 0h24v24H0V0z\" fill=\"none\"/>\n",
              "    <path d=\"M18.56 5.44l.94 2.06.94-2.06 2.06-.94-2.06-.94-.94-2.06-.94 2.06-2.06.94zm-11 1L8.5 8.5l.94-2.06 2.06-.94-2.06-.94L8.5 2.5l-.94 2.06-2.06.94zm10 10l.94 2.06.94-2.06 2.06-.94-2.06-.94-.94-2.06-.94 2.06-2.06.94z\"/><path d=\"M17.41 7.96l-1.37-1.37c-.4-.4-.92-.59-1.43-.59-.52 0-1.04.2-1.43.59L10.3 9.45l-7.72 7.72c-.78.78-.78 2.05 0 2.83L4 21.41c.39.39.9.59 1.41.59.51 0 1.02-.2 1.41-.59l7.78-7.78 2.81-2.81c.8-.78.8-2.07 0-2.86zM5.41 20L4 18.59l7.72-7.72 1.47 1.35L5.41 20z\"/>\n",
              "  </svg>\n",
              "      </button>\n",
              "      \n",
              "  <style>\n",
              "    .colab-df-container {\n",
              "      display:flex;\n",
              "      flex-wrap:wrap;\n",
              "      gap: 12px;\n",
              "    }\n",
              "\n",
              "    .colab-df-convert {\n",
              "      background-color: #E8F0FE;\n",
              "      border: none;\n",
              "      border-radius: 50%;\n",
              "      cursor: pointer;\n",
              "      display: none;\n",
              "      fill: #1967D2;\n",
              "      height: 32px;\n",
              "      padding: 0 0 0 0;\n",
              "      width: 32px;\n",
              "    }\n",
              "\n",
              "    .colab-df-convert:hover {\n",
              "      background-color: #E2EBFA;\n",
              "      box-shadow: 0px 1px 2px rgba(60, 64, 67, 0.3), 0px 1px 3px 1px rgba(60, 64, 67, 0.15);\n",
              "      fill: #174EA6;\n",
              "    }\n",
              "\n",
              "    [theme=dark] .colab-df-convert {\n",
              "      background-color: #3B4455;\n",
              "      fill: #D2E3FC;\n",
              "    }\n",
              "\n",
              "    [theme=dark] .colab-df-convert:hover {\n",
              "      background-color: #434B5C;\n",
              "      box-shadow: 0px 1px 3px 1px rgba(0, 0, 0, 0.15);\n",
              "      filter: drop-shadow(0px 1px 2px rgba(0, 0, 0, 0.3));\n",
              "      fill: #FFFFFF;\n",
              "    }\n",
              "  </style>\n",
              "\n",
              "      <script>\n",
              "        const buttonEl =\n",
              "          document.querySelector('#df-a81564e7-c42f-46ec-ac14-2b4de855be34 button.colab-df-convert');\n",
              "        buttonEl.style.display =\n",
              "          google.colab.kernel.accessAllowed ? 'block' : 'none';\n",
              "\n",
              "        async function convertToInteractive(key) {\n",
              "          const element = document.querySelector('#df-a81564e7-c42f-46ec-ac14-2b4de855be34');\n",
              "          const dataTable =\n",
              "            await google.colab.kernel.invokeFunction('convertToInteractive',\n",
              "                                                     [key], {});\n",
              "          if (!dataTable) return;\n",
              "\n",
              "          const docLinkHtml = 'Like what you see? Visit the ' +\n",
              "            '<a target=\"_blank\" href=https://colab.research.google.com/notebooks/data_table.ipynb>data table notebook</a>'\n",
              "            + ' to learn more about interactive tables.';\n",
              "          element.innerHTML = '';\n",
              "          dataTable['output_type'] = 'display_data';\n",
              "          await google.colab.output.renderOutput(dataTable, element);\n",
              "          const docLink = document.createElement('div');\n",
              "          docLink.innerHTML = docLinkHtml;\n",
              "          element.appendChild(docLink);\n",
              "        }\n",
              "      </script>\n",
              "    </div>\n",
              "  </div>\n",
              "  "
            ]
          },
          "metadata": {},
          "execution_count": 3
        }
      ]
    },
    {
      "cell_type": "code",
      "source": [
        "df.shape"
      ],
      "metadata": {
        "colab": {
          "base_uri": "https://localhost:8080/"
        },
        "id": "r3VzbrNV11bH",
        "outputId": "a4fcfe21-c0f6-45da-874f-98aa2efe5b51"
      },
      "execution_count": null,
      "outputs": [
        {
          "output_type": "execute_result",
          "data": {
            "text/plain": [
              "(2747, 7)"
            ]
          },
          "metadata": {},
          "execution_count": 4
        }
      ]
    },
    {
      "cell_type": "code",
      "source": [
        "df.isnull().sum()"
      ],
      "metadata": {
        "colab": {
          "base_uri": "https://localhost:8080/"
        },
        "id": "ILiSzHBx11eA",
        "outputId": "c0034f15-3d2b-4f94-cbe1-c764d501efcd"
      },
      "execution_count": null,
      "outputs": [
        {
          "output_type": "execute_result",
          "data": {
            "text/plain": [
              "Date         0\n",
              "Open         0\n",
              "High         0\n",
              "Low          0\n",
              "Close        0\n",
              "Adj Close    0\n",
              "Volume       0\n",
              "dtype: int64"
            ]
          },
          "metadata": {},
          "execution_count": 5
        }
      ]
    },
    {
      "cell_type": "code",
      "source": [
        "df = df.dropna()           \n",
        "df.isnull().sum()  "
      ],
      "metadata": {
        "colab": {
          "base_uri": "https://localhost:8080/"
        },
        "id": "h6fEM0w-11gu",
        "outputId": "86cfbe33-84dd-4cc3-bdd0-3a652f8855f4"
      },
      "execution_count": null,
      "outputs": [
        {
          "output_type": "execute_result",
          "data": {
            "text/plain": [
              "Date         0\n",
              "Open         0\n",
              "High         0\n",
              "Low          0\n",
              "Close        0\n",
              "Adj Close    0\n",
              "Volume       0\n",
              "dtype: int64"
            ]
          },
          "metadata": {},
          "execution_count": 6
        }
      ]
    },
    {
      "cell_type": "code",
      "source": [
        "df.keys()"
      ],
      "metadata": {
        "colab": {
          "base_uri": "https://localhost:8080/"
        },
        "id": "7qt2tDls11jZ",
        "outputId": "b231eb56-a3c7-4925-8276-2d0ab54f0985"
      },
      "execution_count": null,
      "outputs": [
        {
          "output_type": "execute_result",
          "data": {
            "text/plain": [
              "Index(['Date', 'Open', 'High', 'Low', 'Close', 'Adj Close', 'Volume'], dtype='object')"
            ]
          },
          "metadata": {},
          "execution_count": 7
        }
      ]
    },
    {
      "cell_type": "code",
      "source": [
        "df2 = df[['Date', 'Open', 'High', 'Low', 'Close', 'Volume' ]].copy()\n",
        "df2"
      ],
      "metadata": {
        "colab": {
          "base_uri": "https://localhost:8080/",
          "height": 423
        },
        "id": "Jp04GMtY11mS",
        "outputId": "0404509f-4aef-418d-9f70-e5c80221a2a0"
      },
      "execution_count": null,
      "outputs": [
        {
          "output_type": "execute_result",
          "data": {
            "text/plain": [
              "            Date          Open          High           Low         Close  \\\n",
              "0     2014-09-17    465.864014    468.174011    452.421997    457.334015   \n",
              "1     2014-09-18    456.859985    456.859985    413.104004    424.440002   \n",
              "2     2014-09-19    424.102997    427.834991    384.532013    394.795990   \n",
              "3     2014-09-20    394.673004    423.295990    389.882996    408.903992   \n",
              "4     2014-09-21    408.084991    412.425995    393.181000    398.821014   \n",
              "...          ...           ...           ...           ...           ...   \n",
              "2742  2022-03-21  41246.132813  41454.410156  40668.042969  41077.996094   \n",
              "2743  2022-03-22  41074.105469  43124.707031  40948.281250  42358.808594   \n",
              "2744  2022-03-23  42364.378906  42893.507813  41877.507813  42892.957031   \n",
              "2745  2022-03-24  42886.652344  44131.855469  42726.164063  43960.933594   \n",
              "2746  2022-03-25  43958.675781  44982.519531  43711.871094  44395.964844   \n",
              "\n",
              "           Volume  \n",
              "0        21056800  \n",
              "1        34483200  \n",
              "2        37919700  \n",
              "3        36863600  \n",
              "4        26580100  \n",
              "...           ...  \n",
              "2742  24615543271  \n",
              "2743  32004652376  \n",
              "2744  25242943069  \n",
              "2745  31042992291  \n",
              "2746  30379415552  \n",
              "\n",
              "[2747 rows x 6 columns]"
            ],
            "text/html": [
              "\n",
              "  <div id=\"df-d71d05af-e60e-4328-96f0-b6b05429bb4c\">\n",
              "    <div class=\"colab-df-container\">\n",
              "      <div>\n",
              "<style scoped>\n",
              "    .dataframe tbody tr th:only-of-type {\n",
              "        vertical-align: middle;\n",
              "    }\n",
              "\n",
              "    .dataframe tbody tr th {\n",
              "        vertical-align: top;\n",
              "    }\n",
              "\n",
              "    .dataframe thead th {\n",
              "        text-align: right;\n",
              "    }\n",
              "</style>\n",
              "<table border=\"1\" class=\"dataframe\">\n",
              "  <thead>\n",
              "    <tr style=\"text-align: right;\">\n",
              "      <th></th>\n",
              "      <th>Date</th>\n",
              "      <th>Open</th>\n",
              "      <th>High</th>\n",
              "      <th>Low</th>\n",
              "      <th>Close</th>\n",
              "      <th>Volume</th>\n",
              "    </tr>\n",
              "  </thead>\n",
              "  <tbody>\n",
              "    <tr>\n",
              "      <th>0</th>\n",
              "      <td>2014-09-17</td>\n",
              "      <td>465.864014</td>\n",
              "      <td>468.174011</td>\n",
              "      <td>452.421997</td>\n",
              "      <td>457.334015</td>\n",
              "      <td>21056800</td>\n",
              "    </tr>\n",
              "    <tr>\n",
              "      <th>1</th>\n",
              "      <td>2014-09-18</td>\n",
              "      <td>456.859985</td>\n",
              "      <td>456.859985</td>\n",
              "      <td>413.104004</td>\n",
              "      <td>424.440002</td>\n",
              "      <td>34483200</td>\n",
              "    </tr>\n",
              "    <tr>\n",
              "      <th>2</th>\n",
              "      <td>2014-09-19</td>\n",
              "      <td>424.102997</td>\n",
              "      <td>427.834991</td>\n",
              "      <td>384.532013</td>\n",
              "      <td>394.795990</td>\n",
              "      <td>37919700</td>\n",
              "    </tr>\n",
              "    <tr>\n",
              "      <th>3</th>\n",
              "      <td>2014-09-20</td>\n",
              "      <td>394.673004</td>\n",
              "      <td>423.295990</td>\n",
              "      <td>389.882996</td>\n",
              "      <td>408.903992</td>\n",
              "      <td>36863600</td>\n",
              "    </tr>\n",
              "    <tr>\n",
              "      <th>4</th>\n",
              "      <td>2014-09-21</td>\n",
              "      <td>408.084991</td>\n",
              "      <td>412.425995</td>\n",
              "      <td>393.181000</td>\n",
              "      <td>398.821014</td>\n",
              "      <td>26580100</td>\n",
              "    </tr>\n",
              "    <tr>\n",
              "      <th>...</th>\n",
              "      <td>...</td>\n",
              "      <td>...</td>\n",
              "      <td>...</td>\n",
              "      <td>...</td>\n",
              "      <td>...</td>\n",
              "      <td>...</td>\n",
              "    </tr>\n",
              "    <tr>\n",
              "      <th>2742</th>\n",
              "      <td>2022-03-21</td>\n",
              "      <td>41246.132813</td>\n",
              "      <td>41454.410156</td>\n",
              "      <td>40668.042969</td>\n",
              "      <td>41077.996094</td>\n",
              "      <td>24615543271</td>\n",
              "    </tr>\n",
              "    <tr>\n",
              "      <th>2743</th>\n",
              "      <td>2022-03-22</td>\n",
              "      <td>41074.105469</td>\n",
              "      <td>43124.707031</td>\n",
              "      <td>40948.281250</td>\n",
              "      <td>42358.808594</td>\n",
              "      <td>32004652376</td>\n",
              "    </tr>\n",
              "    <tr>\n",
              "      <th>2744</th>\n",
              "      <td>2022-03-23</td>\n",
              "      <td>42364.378906</td>\n",
              "      <td>42893.507813</td>\n",
              "      <td>41877.507813</td>\n",
              "      <td>42892.957031</td>\n",
              "      <td>25242943069</td>\n",
              "    </tr>\n",
              "    <tr>\n",
              "      <th>2745</th>\n",
              "      <td>2022-03-24</td>\n",
              "      <td>42886.652344</td>\n",
              "      <td>44131.855469</td>\n",
              "      <td>42726.164063</td>\n",
              "      <td>43960.933594</td>\n",
              "      <td>31042992291</td>\n",
              "    </tr>\n",
              "    <tr>\n",
              "      <th>2746</th>\n",
              "      <td>2022-03-25</td>\n",
              "      <td>43958.675781</td>\n",
              "      <td>44982.519531</td>\n",
              "      <td>43711.871094</td>\n",
              "      <td>44395.964844</td>\n",
              "      <td>30379415552</td>\n",
              "    </tr>\n",
              "  </tbody>\n",
              "</table>\n",
              "<p>2747 rows × 6 columns</p>\n",
              "</div>\n",
              "      <button class=\"colab-df-convert\" onclick=\"convertToInteractive('df-d71d05af-e60e-4328-96f0-b6b05429bb4c')\"\n",
              "              title=\"Convert this dataframe to an interactive table.\"\n",
              "              style=\"display:none;\">\n",
              "        \n",
              "  <svg xmlns=\"http://www.w3.org/2000/svg\" height=\"24px\"viewBox=\"0 0 24 24\"\n",
              "       width=\"24px\">\n",
              "    <path d=\"M0 0h24v24H0V0z\" fill=\"none\"/>\n",
              "    <path d=\"M18.56 5.44l.94 2.06.94-2.06 2.06-.94-2.06-.94-.94-2.06-.94 2.06-2.06.94zm-11 1L8.5 8.5l.94-2.06 2.06-.94-2.06-.94L8.5 2.5l-.94 2.06-2.06.94zm10 10l.94 2.06.94-2.06 2.06-.94-2.06-.94-.94-2.06-.94 2.06-2.06.94z\"/><path d=\"M17.41 7.96l-1.37-1.37c-.4-.4-.92-.59-1.43-.59-.52 0-1.04.2-1.43.59L10.3 9.45l-7.72 7.72c-.78.78-.78 2.05 0 2.83L4 21.41c.39.39.9.59 1.41.59.51 0 1.02-.2 1.41-.59l7.78-7.78 2.81-2.81c.8-.78.8-2.07 0-2.86zM5.41 20L4 18.59l7.72-7.72 1.47 1.35L5.41 20z\"/>\n",
              "  </svg>\n",
              "      </button>\n",
              "      \n",
              "  <style>\n",
              "    .colab-df-container {\n",
              "      display:flex;\n",
              "      flex-wrap:wrap;\n",
              "      gap: 12px;\n",
              "    }\n",
              "\n",
              "    .colab-df-convert {\n",
              "      background-color: #E8F0FE;\n",
              "      border: none;\n",
              "      border-radius: 50%;\n",
              "      cursor: pointer;\n",
              "      display: none;\n",
              "      fill: #1967D2;\n",
              "      height: 32px;\n",
              "      padding: 0 0 0 0;\n",
              "      width: 32px;\n",
              "    }\n",
              "\n",
              "    .colab-df-convert:hover {\n",
              "      background-color: #E2EBFA;\n",
              "      box-shadow: 0px 1px 2px rgba(60, 64, 67, 0.3), 0px 1px 3px 1px rgba(60, 64, 67, 0.15);\n",
              "      fill: #174EA6;\n",
              "    }\n",
              "\n",
              "    [theme=dark] .colab-df-convert {\n",
              "      background-color: #3B4455;\n",
              "      fill: #D2E3FC;\n",
              "    }\n",
              "\n",
              "    [theme=dark] .colab-df-convert:hover {\n",
              "      background-color: #434B5C;\n",
              "      box-shadow: 0px 1px 3px 1px rgba(0, 0, 0, 0.15);\n",
              "      filter: drop-shadow(0px 1px 2px rgba(0, 0, 0, 0.3));\n",
              "      fill: #FFFFFF;\n",
              "    }\n",
              "  </style>\n",
              "\n",
              "      <script>\n",
              "        const buttonEl =\n",
              "          document.querySelector('#df-d71d05af-e60e-4328-96f0-b6b05429bb4c button.colab-df-convert');\n",
              "        buttonEl.style.display =\n",
              "          google.colab.kernel.accessAllowed ? 'block' : 'none';\n",
              "\n",
              "        async function convertToInteractive(key) {\n",
              "          const element = document.querySelector('#df-d71d05af-e60e-4328-96f0-b6b05429bb4c');\n",
              "          const dataTable =\n",
              "            await google.colab.kernel.invokeFunction('convertToInteractive',\n",
              "                                                     [key], {});\n",
              "          if (!dataTable) return;\n",
              "\n",
              "          const docLinkHtml = 'Like what you see? Visit the ' +\n",
              "            '<a target=\"_blank\" href=https://colab.research.google.com/notebooks/data_table.ipynb>data table notebook</a>'\n",
              "            + ' to learn more about interactive tables.';\n",
              "          element.innerHTML = '';\n",
              "          dataTable['output_type'] = 'display_data';\n",
              "          await google.colab.output.renderOutput(dataTable, element);\n",
              "          const docLink = document.createElement('div');\n",
              "          docLink.innerHTML = docLinkHtml;\n",
              "          element.appendChild(docLink);\n",
              "        }\n",
              "      </script>\n",
              "    </div>\n",
              "  </div>\n",
              "  "
            ]
          },
          "metadata": {},
          "execution_count": 8
        }
      ]
    },
    {
      "cell_type": "code",
      "source": [
        "sns.pairplot(df2, kind ='reg') "
      ],
      "metadata": {
        "colab": {
          "base_uri": "https://localhost:8080/",
          "height": 920
        },
        "id": "629CdIgO11pQ",
        "outputId": "1163ca62-7d97-4bd6-81fa-fa8dfa52defe"
      },
      "execution_count": null,
      "outputs": [
        {
          "output_type": "execute_result",
          "data": {
            "text/plain": [
              "<seaborn.axisgrid.PairGrid at 0x7f0656aeb790>"
            ]
          },
          "metadata": {},
          "execution_count": 9
        },
        {
          "output_type": "display_data",
          "data": {
            "text/plain": [
              "<Figure size 900x900 with 30 Axes>"
            ],
            "image/png": "[encoded data removed]"
          },
          "metadata": {
            "needs_background": "light"
          }
        }
      ]
    },
    {
      "cell_type": "code",
      "source": [
        "y = df2['Open']\n",
        "X = df2[['High', 'Low', 'Close', 'Volume']]"
      ],
      "metadata": {
        "id": "VC4MGIOq11sQ"
      },
      "execution_count": null,
      "outputs": []
    },
    {
      "cell_type": "code",
      "source": [
        "X_train, X_test, y_train, y_test = train_test_split(X, y, test_size=0.2, random_state=0)"
      ],
      "metadata": {
        "id": "QGWTqre_11u4"
      },
      "execution_count": null,
      "outputs": []
    },
    {
      "cell_type": "code",
      "source": [
        "print(X_train.shape, X_test.shape, y_train.shape, y_test.shape) "
      ],
      "metadata": {
        "colab": {
          "base_uri": "https://localhost:8080/"
        },
        "id": "TSo-YO3a11xz",
        "outputId": "552f6af7-a3a9-4230-a035-a8e064ba7437"
      },
      "execution_count": null,
      "outputs": [
        {
          "output_type": "stream",
          "name": "stdout",
          "text": [
            "(2197, 4) (550, 4) (2197,) (550,)\n"
          ]
        }
      ]
    },
    {
      "cell_type": "code",
      "source": [
        "X_train"
      ],
      "metadata": {
        "colab": {
          "base_uri": "https://localhost:8080/",
          "height": 423
        },
        "id": "LXEbVoLj110J",
        "outputId": "7e0875c4-179b-45e6-bb92-479407dde136"
      },
      "execution_count": null,
      "outputs": [
        {
          "output_type": "execute_result",
          "data": {
            "text/plain": [
              "              High           Low         Close       Volume\n",
              "2321  32944.007813  31106.685547  32289.378906  48643830599\n",
              "526     427.718994    420.415009    424.544006     70798000\n",
              "1509   6388.629883   6294.569824   6376.129883   4390020000\n",
              "144     229.438004    221.076996    223.412003     17145200\n",
              "2482  35937.566406  34396.476563  35287.781250  24924307911\n",
              "...            ...           ...           ...          ...\n",
              "763     638.874023    628.013000    630.520020     69381696\n",
              "835     972.534973    934.833008    961.237976    187474000\n",
              "1653   4094.902100   4040.266357   4069.107178   9353915899\n",
              "2607  61590.683594  60163.781250  61527.480469  29094934221\n",
              "2732  40081.679688  38347.433594  38794.972656  26364890465\n",
              "\n",
              "[2197 rows x 4 columns]"
            ],
            "text/html": [
              "\n",
              "  <div id=\"df-26b0dddc-0c28-475d-a72b-b7442050799b\">\n",
              "    <div class=\"colab-df-container\">\n",
              "      <div>\n",
              "<style scoped>\n",
              "    .dataframe tbody tr th:only-of-type {\n",
              "        vertical-align: middle;\n",
              "    }\n",
              "\n",
              "    .dataframe tbody tr th {\n",
              "        vertical-align: top;\n",
              "    }\n",
              "\n",
              "    .dataframe thead th {\n",
              "        text-align: right;\n",
              "    }\n",
              "</style>\n",
              "<table border=\"1\" class=\"dataframe\">\n",
              "  <thead>\n",
              "    <tr style=\"text-align: right;\">\n",
              "      <th></th>\n",
              "      <th>High</th>\n",
              "      <th>Low</th>\n",
              "      <th>Close</th>\n",
              "      <th>Volume</th>\n",
              "    </tr>\n",
              "  </thead>\n",
              "  <tbody>\n",
              "    <tr>\n",
              "      <th>2321</th>\n",
              "      <td>32944.007813</td>\n",
              "      <td>31106.685547</td>\n",
              "      <td>32289.378906</td>\n",
              "      <td>48643830599</td>\n",
              "    </tr>\n",
              "    <tr>\n",
              "      <th>526</th>\n",
              "      <td>427.718994</td>\n",
              "      <td>420.415009</td>\n",
              "      <td>424.544006</td>\n",
              "      <td>70798000</td>\n",
              "    </tr>\n",
              "    <tr>\n",
              "      <th>1509</th>\n",
              "      <td>6388.629883</td>\n",
              "      <td>6294.569824</td>\n",
              "      <td>6376.129883</td>\n",
              "      <td>4390020000</td>\n",
              "    </tr>\n",
              "    <tr>\n",
              "      <th>144</th>\n",
              "      <td>229.438004</td>\n",
              "      <td>221.076996</td>\n",
              "      <td>223.412003</td>\n",
              "      <td>17145200</td>\n",
              "    </tr>\n",
              "    <tr>\n",
              "      <th>2482</th>\n",
              "      <td>35937.566406</td>\n",
              "      <td>34396.476563</td>\n",
              "      <td>35287.781250</td>\n",
              "      <td>24924307911</td>\n",
              "    </tr>\n",
              "    <tr>\n",
              "      <th>...</th>\n",
              "      <td>...</td>\n",
              "      <td>...</td>\n",
              "      <td>...</td>\n",
              "      <td>...</td>\n",
              "    </tr>\n",
              "    <tr>\n",
              "      <th>763</th>\n",
              "      <td>638.874023</td>\n",
              "      <td>628.013000</td>\n",
              "      <td>630.520020</td>\n",
              "      <td>69381696</td>\n",
              "    </tr>\n",
              "    <tr>\n",
              "      <th>835</th>\n",
              "      <td>972.534973</td>\n",
              "      <td>934.833008</td>\n",
              "      <td>961.237976</td>\n",
              "      <td>187474000</td>\n",
              "    </tr>\n",
              "    <tr>\n",
              "      <th>1653</th>\n",
              "      <td>4094.902100</td>\n",
              "      <td>4040.266357</td>\n",
              "      <td>4069.107178</td>\n",
              "      <td>9353915899</td>\n",
              "    </tr>\n",
              "    <tr>\n",
              "      <th>2607</th>\n",
              "      <td>61590.683594</td>\n",
              "      <td>60163.781250</td>\n",
              "      <td>61527.480469</td>\n",
              "      <td>29094934221</td>\n",
              "    </tr>\n",
              "    <tr>\n",
              "      <th>2732</th>\n",
              "      <td>40081.679688</td>\n",
              "      <td>38347.433594</td>\n",
              "      <td>38794.972656</td>\n",
              "      <td>26364890465</td>\n",
              "    </tr>\n",
              "  </tbody>\n",
              "</table>\n",
              "<p>2197 rows × 4 columns</p>\n",
              "</div>\n",
              "      <button class=\"colab-df-convert\" onclick=\"convertToInteractive('df-26b0dddc-0c28-475d-a72b-b7442050799b')\"\n",
              "              title=\"Convert this dataframe to an interactive table.\"\n",
              "              style=\"display:none;\">\n",
              "        \n",
              "  <svg xmlns=\"http://www.w3.org/2000/svg\" height=\"24px\"viewBox=\"0 0 24 24\"\n",
              "       width=\"24px\">\n",
              "    <path d=\"M0 0h24v24H0V0z\" fill=\"none\"/>\n",
              "    <path d=\"M18.56 5.44l.94 2.06.94-2.06 2.06-.94-2.06-.94-.94-2.06-.94 2.06-2.06.94zm-11 1L8.5 8.5l.94-2.06 2.06-.94-2.06-.94L8.5 2.5l-.94 2.06-2.06.94zm10 10l.94 2.06.94-2.06 2.06-.94-2.06-.94-.94-2.06-.94 2.06-2.06.94z\"/><path d=\"M17.41 7.96l-1.37-1.37c-.4-.4-.92-.59-1.43-.59-.52 0-1.04.2-1.43.59L10.3 9.45l-7.72 7.72c-.78.78-.78 2.05 0 2.83L4 21.41c.39.39.9.59 1.41.59.51 0 1.02-.2 1.41-.59l7.78-7.78 2.81-2.81c.8-.78.8-2.07 0-2.86zM5.41 20L4 18.59l7.72-7.72 1.47 1.35L5.41 20z\"/>\n",
              "  </svg>\n",
              "      </button>\n",
              "      \n",
              "  <style>\n",
              "    .colab-df-container {\n",
              "      display:flex;\n",
              "      flex-wrap:wrap;\n",
              "      gap: 12px;\n",
              "    }\n",
              "\n",
              "    .colab-df-convert {\n",
              "      background-color: #E8F0FE;\n",
              "      border: none;\n",
              "      border-radius: 50%;\n",
              "      cursor: pointer;\n",
              "      display: none;\n",
              "      fill: #1967D2;\n",
              "      height: 32px;\n",
              "      padding: 0 0 0 0;\n",
              "      width: 32px;\n",
              "    }\n",
              "\n",
              "    .colab-df-convert:hover {\n",
              "      background-color: #E2EBFA;\n",
              "      box-shadow: 0px 1px 2px rgba(60, 64, 67, 0.3), 0px 1px 3px 1px rgba(60, 64, 67, 0.15);\n",
              "      fill: #174EA6;\n",
              "    }\n",
              "\n",
              "    [theme=dark] .colab-df-convert {\n",
              "      background-color: #3B4455;\n",
              "      fill: #D2E3FC;\n",
              "    }\n",
              "\n",
              "    [theme=dark] .colab-df-convert:hover {\n",
              "      background-color: #434B5C;\n",
              "      box-shadow: 0px 1px 3px 1px rgba(0, 0, 0, 0.15);\n",
              "      filter: drop-shadow(0px 1px 2px rgba(0, 0, 0, 0.3));\n",
              "      fill: #FFFFFF;\n",
              "    }\n",
              "  </style>\n",
              "\n",
              "      <script>\n",
              "        const buttonEl =\n",
              "          document.querySelector('#df-26b0dddc-0c28-475d-a72b-b7442050799b button.colab-df-convert');\n",
              "        buttonEl.style.display =\n",
              "          google.colab.kernel.accessAllowed ? 'block' : 'none';\n",
              "\n",
              "        async function convertToInteractive(key) {\n",
              "          const element = document.querySelector('#df-26b0dddc-0c28-475d-a72b-b7442050799b');\n",
              "          const dataTable =\n",
              "            await google.colab.kernel.invokeFunction('convertToInteractive',\n",
              "                                                     [key], {});\n",
              "          if (!dataTable) return;\n",
              "\n",
              "          const docLinkHtml = 'Like what you see? Visit the ' +\n",
              "            '<a target=\"_blank\" href=https://colab.research.google.com/notebooks/data_table.ipynb>data table notebook</a>'\n",
              "            + ' to learn more about interactive tables.';\n",
              "          element.innerHTML = '';\n",
              "          dataTable['output_type'] = 'display_data';\n",
              "          await google.colab.output.renderOutput(dataTable, element);\n",
              "          const docLink = document.createElement('div');\n",
              "          docLink.innerHTML = docLinkHtml;\n",
              "          element.appendChild(docLink);\n",
              "        }\n",
              "      </script>\n",
              "    </div>\n",
              "  </div>\n",
              "  "
            ]
          },
          "metadata": {},
          "execution_count": 13
        }
      ]
    },
    {
      "cell_type": "code",
      "source": [
        "X_test"
      ],
      "metadata": {
        "colab": {
          "base_uri": "https://localhost:8080/",
          "height": 423
        },
        "id": "QDeS1fyB112r",
        "outputId": "58dd3833-0846-4356-85e1-cea465ec5268"
      },
      "execution_count": null,
      "outputs": [
        {
          "output_type": "execute_result",
          "data": {
            "text/plain": [
              "              High           Low         Close       Volume\n",
              "2401  64863.097656  61554.796875  63109.695313  77451779687\n",
              "1590   3616.087402   3569.092773   3600.865479   5262869046\n",
              "2381  53392.386719  50856.570313  51704.160156  67999812841\n",
              "2684  36688.812500  34349.250000  35030.250000  39714385405\n",
              "1147   7253.319824   7023.100098   7144.379883   2326340096\n",
              "...            ...           ...           ...          ...\n",
              "1043   2610.760010   2450.800049   2529.449951    937404032\n",
              "878    1009.289978    982.830017   1004.450012    102261000\n",
              "1762  11052.766602   9992.006836  10895.089844  25384047207\n",
              "303     280.279999    272.042999    279.471985     27591400\n",
              "132     275.480011    250.653000    263.475006     44399000\n",
              "\n",
              "[550 rows x 4 columns]"
            ],
            "text/html": [
              "\n",
              "  <div id=\"df-9b86de9c-ca69-4e40-9ed6-39aed1a8f464\">\n",
              "    <div class=\"colab-df-container\">\n",
              "      <div>\n",
              "<style scoped>\n",
              "    .dataframe tbody tr th:only-of-type {\n",
              "        vertical-align: middle;\n",
              "    }\n",
              "\n",
              "    .dataframe tbody tr th {\n",
              "        vertical-align: top;\n",
              "    }\n",
              "\n",
              "    .dataframe thead th {\n",
              "        text-align: right;\n",
              "    }\n",
              "</style>\n",
              "<table border=\"1\" class=\"dataframe\">\n",
              "  <thead>\n",
              "    <tr style=\"text-align: right;\">\n",
              "      <th></th>\n",
              "      <th>High</th>\n",
              "      <th>Low</th>\n",
              "      <th>Close</th>\n",
              "      <th>Volume</th>\n",
              "    </tr>\n",
              "  </thead>\n",
              "  <tbody>\n",
              "    <tr>\n",
              "      <th>2401</th>\n",
              "      <td>64863.097656</td>\n",
              "      <td>61554.796875</td>\n",
              "      <td>63109.695313</td>\n",
              "      <td>77451779687</td>\n",
              "    </tr>\n",
              "    <tr>\n",
              "      <th>1590</th>\n",
              "      <td>3616.087402</td>\n",
              "      <td>3569.092773</td>\n",
              "      <td>3600.865479</td>\n",
              "      <td>5262869046</td>\n",
              "    </tr>\n",
              "    <tr>\n",
              "      <th>2381</th>\n",
              "      <td>53392.386719</td>\n",
              "      <td>50856.570313</td>\n",
              "      <td>51704.160156</td>\n",
              "      <td>67999812841</td>\n",
              "    </tr>\n",
              "    <tr>\n",
              "      <th>2684</th>\n",
              "      <td>36688.812500</td>\n",
              "      <td>34349.250000</td>\n",
              "      <td>35030.250000</td>\n",
              "      <td>39714385405</td>\n",
              "    </tr>\n",
              "    <tr>\n",
              "      <th>1147</th>\n",
              "      <td>7253.319824</td>\n",
              "      <td>7023.100098</td>\n",
              "      <td>7144.379883</td>\n",
              "      <td>2326340096</td>\n",
              "    </tr>\n",
              "    <tr>\n",
              "      <th>...</th>\n",
              "      <td>...</td>\n",
              "      <td>...</td>\n",
              "      <td>...</td>\n",
              "      <td>...</td>\n",
              "    </tr>\n",
              "    <tr>\n",
              "      <th>1043</th>\n",
              "      <td>2610.760010</td>\n",
              "      <td>2450.800049</td>\n",
              "      <td>2529.449951</td>\n",
              "      <td>937404032</td>\n",
              "    </tr>\n",
              "    <tr>\n",
              "      <th>878</th>\n",
              "      <td>1009.289978</td>\n",
              "      <td>982.830017</td>\n",
              "      <td>1004.450012</td>\n",
              "      <td>102261000</td>\n",
              "    </tr>\n",
              "    <tr>\n",
              "      <th>1762</th>\n",
              "      <td>11052.766602</td>\n",
              "      <td>9992.006836</td>\n",
              "      <td>10895.089844</td>\n",
              "      <td>25384047207</td>\n",
              "    </tr>\n",
              "    <tr>\n",
              "      <th>303</th>\n",
              "      <td>280.279999</td>\n",
              "      <td>272.042999</td>\n",
              "      <td>279.471985</td>\n",
              "      <td>27591400</td>\n",
              "    </tr>\n",
              "    <tr>\n",
              "      <th>132</th>\n",
              "      <td>275.480011</td>\n",
              "      <td>250.653000</td>\n",
              "      <td>263.475006</td>\n",
              "      <td>44399000</td>\n",
              "    </tr>\n",
              "  </tbody>\n",
              "</table>\n",
              "<p>550 rows × 4 columns</p>\n",
              "</div>\n",
              "      <button class=\"colab-df-convert\" onclick=\"convertToInteractive('df-9b86de9c-ca69-4e40-9ed6-39aed1a8f464')\"\n",
              "              title=\"Convert this dataframe to an interactive table.\"\n",
              "              style=\"display:none;\">\n",
              "        \n",
              "  <svg xmlns=\"http://www.w3.org/2000/svg\" height=\"24px\"viewBox=\"0 0 24 24\"\n",
              "       width=\"24px\">\n",
              "    <path d=\"M0 0h24v24H0V0z\" fill=\"none\"/>\n",
              "    <path d=\"M18.56 5.44l.94 2.06.94-2.06 2.06-.94-2.06-.94-.94-2.06-.94 2.06-2.06.94zm-11 1L8.5 8.5l.94-2.06 2.06-.94-2.06-.94L8.5 2.5l-.94 2.06-2.06.94zm10 10l.94 2.06.94-2.06 2.06-.94-2.06-.94-.94-2.06-.94 2.06-2.06.94z\"/><path d=\"M17.41 7.96l-1.37-1.37c-.4-.4-.92-.59-1.43-.59-.52 0-1.04.2-1.43.59L10.3 9.45l-7.72 7.72c-.78.78-.78 2.05 0 2.83L4 21.41c.39.39.9.59 1.41.59.51 0 1.02-.2 1.41-.59l7.78-7.78 2.81-2.81c.8-.78.8-2.07 0-2.86zM5.41 20L4 18.59l7.72-7.72 1.47 1.35L5.41 20z\"/>\n",
              "  </svg>\n",
              "      </button>\n",
              "      \n",
              "  <style>\n",
              "    .colab-df-container {\n",
              "      display:flex;\n",
              "      flex-wrap:wrap;\n",
              "      gap: 12px;\n",
              "    }\n",
              "\n",
              "    .colab-df-convert {\n",
              "      background-color: #E8F0FE;\n",
              "      border: none;\n",
              "      border-radius: 50%;\n",
              "      cursor: pointer;\n",
              "      display: none;\n",
              "      fill: #1967D2;\n",
              "      height: 32px;\n",
              "      padding: 0 0 0 0;\n",
              "      width: 32px;\n",
              "    }\n",
              "\n",
              "    .colab-df-convert:hover {\n",
              "      background-color: #E2EBFA;\n",
              "      box-shadow: 0px 1px 2px rgba(60, 64, 67, 0.3), 0px 1px 3px 1px rgba(60, 64, 67, 0.15);\n",
              "      fill: #174EA6;\n",
              "    }\n",
              "\n",
              "    [theme=dark] .colab-df-convert {\n",
              "      background-color: #3B4455;\n",
              "      fill: #D2E3FC;\n",
              "    }\n",
              "\n",
              "    [theme=dark] .colab-df-convert:hover {\n",
              "      background-color: #434B5C;\n",
              "      box-shadow: 0px 1px 3px 1px rgba(0, 0, 0, 0.15);\n",
              "      filter: drop-shadow(0px 1px 2px rgba(0, 0, 0, 0.3));\n",
              "      fill: #FFFFFF;\n",
              "    }\n",
              "  </style>\n",
              "\n",
              "      <script>\n",
              "        const buttonEl =\n",
              "          document.querySelector('#df-9b86de9c-ca69-4e40-9ed6-39aed1a8f464 button.colab-df-convert');\n",
              "        buttonEl.style.display =\n",
              "          google.colab.kernel.accessAllowed ? 'block' : 'none';\n",
              "\n",
              "        async function convertToInteractive(key) {\n",
              "          const element = document.querySelector('#df-9b86de9c-ca69-4e40-9ed6-39aed1a8f464');\n",
              "          const dataTable =\n",
              "            await google.colab.kernel.invokeFunction('convertToInteractive',\n",
              "                                                     [key], {});\n",
              "          if (!dataTable) return;\n",
              "\n",
              "          const docLinkHtml = 'Like what you see? Visit the ' +\n",
              "            '<a target=\"_blank\" href=https://colab.research.google.com/notebooks/data_table.ipynb>data table notebook</a>'\n",
              "            + ' to learn more about interactive tables.';\n",
              "          element.innerHTML = '';\n",
              "          dataTable['output_type'] = 'display_data';\n",
              "          await google.colab.output.renderOutput(dataTable, element);\n",
              "          const docLink = document.createElement('div');\n",
              "          docLink.innerHTML = docLinkHtml;\n",
              "          element.appendChild(docLink);\n",
              "        }\n",
              "      </script>\n",
              "    </div>\n",
              "  </div>\n",
              "  "
            ]
          },
          "metadata": {},
          "execution_count": 14
        }
      ]
    },
    {
      "cell_type": "code",
      "source": [
        "lineal = LinearRegression()           #Para saber que porcentaje se asemeja más"
      ],
      "metadata": {
        "id": "nU6S3L6X115P"
      },
      "execution_count": null,
      "outputs": []
    },
    {
      "cell_type": "code",
      "source": [
        "lineal.fit(X_train, y_train)          #Hagame el favor y aprenda, llamo una cantidad de variables, procesos bien pesados en mate y estadis para generar el proceso"
      ],
      "metadata": {
        "colab": {
          "base_uri": "https://localhost:8080/"
        },
        "id": "VPYqS50T117-",
        "outputId": "9145c6e5-30c5-416b-ed74-dc4af5b652ed"
      },
      "execution_count": null,
      "outputs": [
        {
          "output_type": "execute_result",
          "data": {
            "text/plain": [
              "LinearRegression()"
            ]
          },
          "metadata": {},
          "execution_count": 16
        }
      ]
    },
    {
      "cell_type": "code",
      "source": [
        "lineal.coef_.tolist()  "
      ],
      "metadata": {
        "colab": {
          "base_uri": "https://localhost:8080/"
        },
        "id": "LKBYS7k311-b",
        "outputId": "804edace-7076-477a-a480-81392c2ebb3f"
      },
      "execution_count": null,
      "outputs": [
        {
          "output_type": "execute_result",
          "data": {
            "text/plain": [
              "[1.1029984602068441,\n",
              " 0.5632025547875883,\n",
              " -0.6776882529195518,\n",
              " 7.652967148885637e-11]"
            ]
          },
          "metadata": {},
          "execution_count": 17
        }
      ]
    },
    {
      "cell_type": "code",
      "source": [
        "y_pred_train_lineal = lineal.predict(X_train)   \n",
        "y_pred_train_lineal "
      ],
      "metadata": {
        "colab": {
          "base_uri": "https://localhost:8080/"
        },
        "id": "XGP2oNgp12BL",
        "outputId": "308066e5-5724-477d-9dcb-7c782dfece2c"
      },
      "execution_count": null,
      "outputs": [
        {
          "output_type": "execute_result",
          "data": {
            "text/plain": [
              "array([31975.09915313,   417.80370495,  6268.02894953, ...,\n",
              "        4032.24333659, 60121.55492673, 39515.47857675])"
            ]
          },
          "metadata": {},
          "execution_count": 18
        }
      ]
    },
    {
      "cell_type": "code",
      "source": [
        "y_pred_test_lineal = lineal.predict(X_test)\n",
        "y_pred_test_lineal"
      ],
      "metadata": {
        "colab": {
          "base_uri": "https://localhost:8080/"
        },
        "id": "h-N5Lc2p12Dt",
        "outputId": "2b281d51-a8d3-4541-e923-ddd604a4d064"
      },
      "execution_count": null,
      "outputs": [
        {
          "output_type": "execute_result",
          "data": {
            "text/plain": [
              "array([63445.89847215,  3555.75410818, 52497.12727798, 36073.69402999,\n",
              "        7111.29880152, 11272.93296236,  2623.59438922,   242.50859989,\n",
              "        9087.67142565, 11610.69693785,  5814.42439592,  6525.49055854,\n",
              "        6437.31954214,  6343.59496206,   448.19482449, 14860.25651607,\n",
              "       10822.42848842,  2354.65280786,  6630.69948287,   228.60780644,\n",
              "       61826.12751886,  3458.34053759,   277.16901765,  1039.61282175,\n",
              "       10625.41077982,   307.84620506,   368.39000492, 10229.24068964,\n",
              "        6279.04503012,   230.13702632,  6493.13348758, 57107.39666128,\n",
              "        8016.18717345,   207.15990151, 45293.64772825,   398.51117854,\n",
              "        6377.78390734,  6460.11025953,   369.94480047,   241.01235952,\n",
              "         232.67448548,  1225.95570843,  1007.99653398,   409.3058297 ,\n",
              "        8851.00977627, 58197.18974641,  9404.498622  ,  8571.75284489,\n",
              "       22756.05540019,   220.18970002, 48107.07527571, 10745.68269615,\n",
              "        9226.38914605, 60191.13291832,   821.00829094,   378.02111316,\n",
              "         693.82327143, 22959.36580026, 48904.73300328, 39370.43884216,\n",
              "       32845.21172365,  8860.28122609,   397.89929911,  9043.30428933,\n",
              "       19066.35455216,  9300.59997741,  2224.37456573, 38942.93163537,\n",
              "        1181.31822029,  8565.5044085 ,  7547.27737444,   883.52074052,\n",
              "        3861.52163502,   249.57033213, 14294.19344651,   278.7206945 ,\n",
              "       11442.16845857,  1136.76850912,  3652.31838433,  7078.37898911,\n",
              "       47290.43351203,  9674.61301921,   458.92798071,   265.31359963,\n",
              "         237.44850416,   423.08562793, 34716.23766119,   654.43863027,\n",
              "        1024.60512182,  9314.73384488, 22567.49448995,   280.21632811,\n",
              "        7356.33971135,  3679.00036891, 36287.40520214,   563.34158093,\n",
              "        4007.06256523,   232.16561366, 42246.64590397, 46433.5185145 ,\n",
              "         235.35652191, 61153.45589714,  3407.599928  ,   566.86231821,\n",
              "        6447.83210939,   569.59522479,  1248.24608847,   225.67243107,\n",
              "        9693.04901107,  8350.05829969,  8574.61170346, 47160.32257433,\n",
              "        8326.39907425, 48656.87708838,  9289.89473172,   239.07605774,\n",
              "         314.32294493,  1241.49045665,   269.34153781,   571.05298811,\n",
              "       27999.93342829,  8108.02138697, 38292.3842959 ,  1780.66670879,\n",
              "         566.50818737,  1172.39101948,   601.7850858 , 16451.51417686,\n",
              "         220.8279942 ,  1228.88561048, 11594.43557154,   418.68576721,\n",
              "        9291.24782345, 54651.47964748,  6441.92477932,   409.15317625,\n",
              "         232.51116969,  7349.39021019,  9184.3640985 , 59708.23200809,\n",
              "         764.45189593, 33722.16312881,   661.68061957,   261.32571038,\n",
              "        7984.98270087, 38777.87236924,  9079.52546318, 56646.05194504,\n",
              "        1173.44184005,  3705.92369712,   647.51101254,   345.74089924,\n",
              "       14077.58660555, 59133.63646821,   364.41956578, 48518.16310758,\n",
              "       11523.71066371, 37171.19780147,  8072.10605547,   597.60348916,\n",
              "        4220.91960892,   245.12224366, 49480.81519137,   648.04633231,\n",
              "       56303.33783012,   407.70467356,  4040.14583603,   226.51302422,\n",
              "         380.43924911,   723.35514024,  4031.87873708,   568.01151471,\n",
              "         256.00675563, 10498.47305827,   646.40430902,  7389.40471818,\n",
              "       23565.41862079,   570.53472309,  6795.67555276,  8138.14853852,\n",
              "         550.57420631,   328.58611251,  8294.10520017,   492.41178312,\n",
              "         238.24226488, 33605.9675491 ,   627.69866494,  8452.9899896 ,\n",
              "         568.03712642,  6002.97190512,  1216.03908086,   249.57389462,\n",
              "        8990.08762194,   579.94517676,   447.31653677,  4083.37001404,\n",
              "        6050.10336183,  2435.09775621,   414.44476398, 41363.31905524,\n",
              "         980.61736538, 37317.11763668,  9104.92002468,  9506.18049226,\n",
              "         709.69262607, 65825.81795195,  6926.0823004 , 57349.23704232,\n",
              "       61531.39576347,   227.79349723,  3558.62541566, 47503.12929696,\n",
              "         389.02148346,   412.94841513,  5290.70206296,   380.80083881,\n",
              "       13552.33884881,  4595.76046365, 10138.85763654, 10605.34245233,\n",
              "         265.07463936,  3778.19171686, 58638.44457579,   431.1824429 ,\n",
              "        3841.91695339,   405.8442067 ,  1040.46576487, 57746.99218266,\n",
              "        9686.38802693,  6446.17542727, 38999.36275161,  5557.359917  ,\n",
              "        9380.34598998, 10061.57808937,  3829.54564357,   416.35177482,\n",
              "       34410.02937212,   894.26324035, 39771.94124603,  9202.09546006,\n",
              "        2711.04767061, 49439.55430621,  7896.69471602,  4504.70764196,\n",
              "        6382.34383734,   269.5919845 ,   417.60587993,   227.37479283,\n",
              "       33752.5123614 ,  2777.74741223, 11405.96867969,  1249.51606718,\n",
              "        9244.63509428, 41512.17359005,  6674.4800535 , 45584.30061198,\n",
              "        3428.77677631, 15196.55222043,   283.06471391, 17996.84265976,\n",
              "         328.41890521,  8201.46452974,   281.79063215,  1188.991896  ,\n",
              "         297.80365066,  9653.03359914,   991.01798369,  1191.1528222 ,\n",
              "         261.00186607,   288.28595201,  7221.65919523,  4099.46441846,\n",
              "        9412.28670291,   647.88255479,  2713.58873687,  7197.46631081,\n",
              "       37385.74634299,   602.98888335,   413.51482741,   383.13190896,\n",
              "       49982.93397269, 49810.63592009, 39802.64741762, 11589.07596083,\n",
              "       11059.12159039, 43022.45731881,   566.11810294,   964.43239682,\n",
              "        2494.93328837,   452.08495552,  3981.95804893,   223.44396416,\n",
              "        3891.64354931,   441.42721053,  3599.99682266,  7856.48211418,\n",
              "         263.76080069,   440.17287536,   655.52348082,  2484.00375522,\n",
              "       58116.7006696 ,  1034.49071797,   387.13897214,   279.0740144 ,\n",
              "        2770.53555939,   644.16037271,  1726.75564226, 37999.08054492,\n",
              "        5674.07297001,  9379.72771417,  1066.50860861,  4278.05775933,\n",
              "       15702.90026311,   212.858692  ,  1163.14178134, 10267.59985716,\n",
              "       52501.65833205,  4105.32548013, 57381.39068307, 39702.89992132,\n",
              "         620.2745353 ,   437.89665574,  5237.45538063,  6237.75662611,\n",
              "       11612.14875932,   266.16356126,  3213.79807353,   570.64134035,\n",
              "        7172.26015268,  7371.4467936 , 11026.3832258 ,   238.56842642,\n",
              "         327.62069712,   376.76549719,  1040.17049624,  6699.44958008,\n",
              "       55346.45239056,   418.21539754, 10598.42040445,   408.47274767,\n",
              "         783.86454364,  7263.18763785,   530.1181468 ,  2534.49110385,\n",
              "       58853.13701845, 10077.61796074,  6329.97453356,   230.26053943,\n",
              "        8363.85961961,   716.79975134,   672.59083736, 12718.16513496,\n",
              "        2858.4769139 , 40687.89112363, 60828.73469185,  6830.80678872,\n",
              "         677.20446409,   279.81897455,   940.33763553,  4013.77575694,\n",
              "         374.94954924,   368.60854247,   217.97370468,  9677.66254471,\n",
              "       47514.9622995 , 11310.22042325, 60913.38196945, 10386.94066797,\n",
              "        9767.93203414, 50244.8852366 ,   351.27730934,   452.7055783 ,\n",
              "        8092.41568905, 26283.19217876,  8335.92600499,  2724.80592748,\n",
              "         228.03269018, 47653.51159965,  6652.86185511,  9829.66672669,\n",
              "        1169.44854776, 19467.21476872,   231.94012469,  9034.38227553,\n",
              "        7971.94110144,  6823.21427335,  7973.90327528,   219.41239138,\n",
              "         611.76509768, 34849.57375056,  9511.71047381,   399.78957001,\n",
              "        4898.73326293,   597.80866163, 10222.09602362, 17569.30126608,\n",
              "        6529.2781785 ,  4057.92909421,  8593.63753046,  8902.64517985,\n",
              "        2098.61245876,  2711.63791525,   367.55155818,   373.7361565 ,\n",
              "        8980.2973383 , 38600.56346273, 10351.4522425 ,  8349.43139575,\n",
              "        4984.6646122 , 31971.1122403 ,   744.88092135, 35871.77245371,\n",
              "       11736.98284531,  5049.79393003,  8139.11556258, 51429.57946255,\n",
              "       10428.48086652,  7930.76090118, 10466.93678236,   414.19195676,\n",
              "       10627.62116298,  6099.84904277, 10566.5079753 , 44146.94290208,\n",
              "        3246.32115416, 12838.70584804, 10090.46236364,   649.89812854,\n",
              "        4714.97016584, 11419.05747039, 57887.70623162, 10382.04572069,\n",
              "         241.36211497, 17701.08405103, 40126.20955146,  6240.57904116,\n",
              "         289.88676232,   435.85003346,   354.96381846,   316.51365101,\n",
              "        9419.26364764,  8727.3693707 ,  1233.3500525 ,   413.09228893,\n",
              "        8829.22339461,   615.58016492,   234.81974513, 38681.46322192,\n",
              "        2528.34349586,   352.15327332,  2660.74085472,   600.74504393,\n",
              "       49679.70357563, 31910.99201005,   389.90965215, 56155.05616827,\n",
              "       11375.69753384,   815.9041427 ,  3991.47124612,  3753.55077409,\n",
              "       59007.37684623, 42186.54202042, 44169.48233382,  9832.85062834,\n",
              "        7516.39542685,  6629.8921037 ,   214.31479419,  5719.92598388,\n",
              "       10843.96603494,   669.12926438,  4282.44341367,   284.691001  ,\n",
              "        7343.80355207,  8490.65660024, 11399.71470749,   250.91396892,\n",
              "        6276.7021012 ,   562.89470364, 30967.24880564,   444.85993029,\n",
              "       36914.43671172,  6913.44714768, 39242.63488887,  4290.64429002,\n",
              "         755.31182216,   411.62626363,   437.68880369,   223.91005628,\n",
              "        9720.17119477, 43882.11167781,  1145.63695614, 10491.39418976,\n",
              "        7420.50517159,   231.6695342 ,   648.87611246,   258.5128773 ,\n",
              "       38827.39497526, 39836.55048787,  1181.62976351, 59508.72228582,\n",
              "       10665.30855934,  3566.6982256 ,   285.10006497, 49543.49776196,\n",
              "        7093.42420452,   441.91827904, 12006.98978737,  4251.69370659,\n",
              "        2432.12138902, 12117.11787943, 35312.47552296,  7098.40090232,\n",
              "        6439.09076858, 50393.92200365,  1028.15496676,   272.53199289,\n",
              "        9154.03816142,  8852.33442378,   430.25569669, 45726.99352692,\n",
              "         739.19976734, 49500.98783229,  7487.56853361,  7744.57263141,\n",
              "         383.1810727 , 52708.35964422,   355.89621004, 35358.75824717,\n",
              "       11123.19882207, 58582.77709629,  9509.12484541,  5294.06701677,\n",
              "       15324.45045358,   259.67899227,  8731.65808057,  6297.21115393,\n",
              "         905.62605694, 45312.91945265, 11293.27092206, 67428.00107961,\n",
              "         452.1301459 ,  9045.76260897,  7066.59883238,  9561.02891042,\n",
              "       55214.90661331,  2542.80891455,   983.03609395, 10434.13112513,\n",
              "         269.92552328,   263.42649285])"
            ]
          },
          "metadata": {},
          "execution_count": 19
        }
      ]
    },
    {
      "cell_type": "code",
      "source": [
        "metrics.mean_squared_error(y_train,y_pred_train_lineal)"
      ],
      "metadata": {
        "colab": {
          "base_uri": "https://localhost:8080/"
        },
        "id": "D97jKHrV12Gc",
        "outputId": "417fe39f-ecc0-4579-ceb3-a8a11c7f9d24"
      },
      "execution_count": null,
      "outputs": [
        {
          "output_type": "execute_result",
          "data": {
            "text/plain": [
              "132622.06682391046"
            ]
          },
          "metadata": {},
          "execution_count": 20
        }
      ]
    },
    {
      "cell_type": "code",
      "source": [
        "metrics.mean_squared_error(y_test,y_pred_test_lineal) \n"
      ],
      "metadata": {
        "colab": {
          "base_uri": "https://localhost:8080/"
        },
        "id": "Uav15Gzt12JB",
        "outputId": "33887c9e-c0b5-4247-ad6a-76ea70bab235"
      },
      "execution_count": null,
      "outputs": [
        {
          "output_type": "execute_result",
          "data": {
            "text/plain": [
              "146887.06404977266"
            ]
          },
          "metadata": {},
          "execution_count": 21
        }
      ]
    },
    {
      "cell_type": "code",
      "source": [
        "metrics.mean_absolute_error(y_train,y_pred_train_lineal)"
      ],
      "metadata": {
        "colab": {
          "base_uri": "https://localhost:8080/"
        },
        "id": "FEBRnPoD12LW",
        "outputId": "1b383b29-4f82-4a6c-fb4b-47b0e6005a90"
      },
      "execution_count": null,
      "outputs": [
        {
          "output_type": "execute_result",
          "data": {
            "text/plain": [
              "160.37771479384537"
            ]
          },
          "metadata": {},
          "execution_count": 22
        }
      ]
    },
    {
      "cell_type": "code",
      "source": [
        "y_error_train = y_train - y_pred_train_lineal  #Acá da el resultado del error\n",
        "y_error_train   "
      ],
      "metadata": {
        "colab": {
          "base_uri": "https://localhost:8080/"
        },
        "id": "UuS_veTG12N8",
        "outputId": "e43fc5cf-07ae-496f-c6d2-bd690cf75f96"
      },
      "execution_count": null,
      "outputs": [
        {
          "output_type": "execute_result",
          "data": {
            "text/plain": [
              "2321     89.277800\n",
              "526       7.233282\n",
              "1509     97.441265\n",
              "144       4.559903\n",
              "2482   -430.444677\n",
              "           ...    \n",
              "763      10.094510\n",
              "835      27.780821\n",
              "1653     55.341136\n",
              "2607    947.320073\n",
              "2732    -75.509827\n",
              "Name: Open, Length: 2197, dtype: float64"
            ]
          },
          "metadata": {},
          "execution_count": 23
        }
      ]
    },
    {
      "cell_type": "code",
      "source": [
        "plt.scatter(x = range(len(y_error_train)), y=y_error_train)"
      ],
      "metadata": {
        "colab": {
          "base_uri": "https://localhost:8080/",
          "height": 282
        },
        "id": "7PkfQXbs12Qc",
        "outputId": "37882fe9-a3c6-4b13-d380-37b10f92e403"
      },
      "execution_count": null,
      "outputs": [
        {
          "output_type": "execute_result",
          "data": {
            "text/plain": [
              "<matplotlib.collections.PathCollection at 0x7f06563c4410>"
            ]
          },
          "metadata": {},
          "execution_count": 24
        },
        {
          "output_type": "display_data",
          "data": {
            "text/plain": [
              "<Figure size 432x288 with 1 Axes>"
            ],
            "image/png": "[encoded data removed]"
          },
          "metadata": {
            "needs_background": "light"
          }
        }
      ]
    },
    {
      "cell_type": "code",
      "source": [
        "y_error_test = y_test - y_pred_test_lineal                 \n",
        "plt.scatter(x = range(len(y_error_test)), y=y_error_test)"
      ],
      "metadata": {
        "colab": {
          "base_uri": "https://localhost:8080/",
          "height": 282
        },
        "id": "oBNJ0D4Q12S0",
        "outputId": "9d1a8910-6517-4b8d-e48c-f92084a84a52"
      },
      "execution_count": null,
      "outputs": [
        {
          "output_type": "execute_result",
          "data": {
            "text/plain": [
              "<matplotlib.collections.PathCollection at 0x7f0653469410>"
            ]
          },
          "metadata": {},
          "execution_count": 25
        },
        {
          "output_type": "display_data",
          "data": {
            "text/plain": [
              "<Figure size 432x288 with 1 Axes>"
            ],
            "image/png": "[encoded data removed]"
          },
          "metadata": {
            "needs_background": "light"
          }
        }
      ]
    },
    {
      "cell_type": "code",
      "source": [],
      "metadata": {
        "id": "nvpsbCTi12U-"
      },
      "execution_count": null,
      "outputs": []
    }
  ]
}