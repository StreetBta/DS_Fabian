{
  "nbformat": 4,
  "nbformat_minor": 0,
  "metadata": {
    "colab": {
      "provenance": [],
      "collapsed_sections": [],
      "mount_file_id": "1KCQDpdlIYRCj75c7n81_Dpsgo6ykg_1G",
      "authorship_tag": "ABX9TyO1o3vw/TDVkCPqI+6IS7qA",
      "include_colab_link": true
    },
    "kernelspec": {
      "name": "python3",
      "display_name": "Python 3"
    },
    "language_info": {
      "name": "python"
    }
  },
  "cells": [
    {
      "cell_type": "markdown",
      "metadata": {
        "id": "view-in-github",
        "colab_type": "text"
      },
      "source": [
        "<a href=\"https://colab.research.google.com/github/StreetBta/DS_Fabian/blob/main/Actividadclase6.ipynb\" target=\"_parent\"><img src=\"https://colab.research.google.com/assets/colab-badge.svg\" alt=\"Open In Colab\"/></a>"
      ]
    },
    {
      "cell_type": "code",
      "execution_count": null,
      "metadata": {
        "id": "SB4FyLHl6dtg"
      },
      "outputs": [],
      "source": [
        "import sys\n",
        "import numpy as np\n",
        "import pandas as pd\n",
        "# Librería para medidas de posición y forma\n",
        "import scipy\n",
        "import scipy.stats as stats\n",
        "# Librerías para visualización\n",
        "import seaborn as sns\n",
        "import matplotlib\n",
        "import matplotlib.pyplot as plt\n",
        "import plotly"
      ]
    },
    {
      "cell_type": "code",
      "source": [
        "df = pd.read_csv(filepath_or_buffer='/content/drive/MyDrive/Colab Notebooks/BTC-USD.csv'\n",
        "                ,sep = ',',\n",
        "                 decimal = '.')\n",
        "df_p = df\n",
        "df"
      ],
      "metadata": {
        "colab": {
          "base_uri": "https://localhost:8080/",
          "height": 424
        },
        "id": "zRKVWUzm9qma",
        "outputId": "b616335f-9608-4caf-c3e8-001bff8db998"
      },
      "execution_count": null,
      "outputs": [
        {
          "output_type": "execute_result",
          "data": {
            "text/plain": [
              "            Date          Open          High           Low         Close  \\\n",
              "0     2014-09-17    465.864014    468.174011    452.421997    457.334015   \n",
              "1     2014-09-18    456.859985    456.859985    413.104004    424.440002   \n",
              "2     2014-09-19    424.102997    427.834991    384.532013    394.795990   \n",
              "3     2014-09-20    394.673004    423.295990    389.882996    408.903992   \n",
              "4     2014-09-21    408.084991    412.425995    393.181000    398.821014   \n",
              "...          ...           ...           ...           ...           ...   \n",
              "2742  2022-03-21  41246.132813  41454.410156  40668.042969  41077.996094   \n",
              "2743  2022-03-22  41074.105469  43124.707031  40948.281250  42358.808594   \n",
              "2744  2022-03-23  42364.378906  42893.507813  41877.507813  42892.957031   \n",
              "2745  2022-03-24  42886.652344  44131.855469  42726.164063  43960.933594   \n",
              "2746  2022-03-25  43958.675781  44982.519531  43711.871094  44395.964844   \n",
              "\n",
              "         Adj Close       Volume  \n",
              "0       457.334015     21056800  \n",
              "1       424.440002     34483200  \n",
              "2       394.795990     37919700  \n",
              "3       408.903992     36863600  \n",
              "4       398.821014     26580100  \n",
              "...            ...          ...  \n",
              "2742  41077.996094  24615543271  \n",
              "2743  42358.808594  32004652376  \n",
              "2744  42892.957031  25242943069  \n",
              "2745  43960.933594  31042992291  \n",
              "2746  44395.964844  30379415552  \n",
              "\n",
              "[2747 rows x 7 columns]"
            ],
            "text/html": [
              "\n",
              "  <div id=\"df-c67dd30c-d2fa-48be-bdcd-2bb6bc053baf\">\n",
              "    <div class=\"colab-df-container\">\n",
              "      <div>\n",
              "<style scoped>\n",
              "    .dataframe tbody tr th:only-of-type {\n",
              "        vertical-align: middle;\n",
              "    }\n",
              "\n",
              "    .dataframe tbody tr th {\n",
              "        vertical-align: top;\n",
              "    }\n",
              "\n",
              "    .dataframe thead th {\n",
              "        text-align: right;\n",
              "    }\n",
              "</style>\n",
              "<table border=\"1\" class=\"dataframe\">\n",
              "  <thead>\n",
              "    <tr style=\"text-align: right;\">\n",
              "      <th></th>\n",
              "      <th>Date</th>\n",
              "      <th>Open</th>\n",
              "      <th>High</th>\n",
              "      <th>Low</th>\n",
              "      <th>Close</th>\n",
              "      <th>Adj Close</th>\n",
              "      <th>Volume</th>\n",
              "    </tr>\n",
              "  </thead>\n",
              "  <tbody>\n",
              "    <tr>\n",
              "      <th>0</th>\n",
              "      <td>2014-09-17</td>\n",
              "      <td>465.864014</td>\n",
              "      <td>468.174011</td>\n",
              "      <td>452.421997</td>\n",
              "      <td>457.334015</td>\n",
              "      <td>457.334015</td>\n",
              "      <td>21056800</td>\n",
              "    </tr>\n",
              "    <tr>\n",
              "      <th>1</th>\n",
              "      <td>2014-09-18</td>\n",
              "      <td>456.859985</td>\n",
              "      <td>456.859985</td>\n",
              "      <td>413.104004</td>\n",
              "      <td>424.440002</td>\n",
              "      <td>424.440002</td>\n",
              "      <td>34483200</td>\n",
              "    </tr>\n",
              "    <tr>\n",
              "      <th>2</th>\n",
              "      <td>2014-09-19</td>\n",
              "      <td>424.102997</td>\n",
              "      <td>427.834991</td>\n",
              "      <td>384.532013</td>\n",
              "      <td>394.795990</td>\n",
              "      <td>394.795990</td>\n",
              "      <td>37919700</td>\n",
              "    </tr>\n",
              "    <tr>\n",
              "      <th>3</th>\n",
              "      <td>2014-09-20</td>\n",
              "      <td>394.673004</td>\n",
              "      <td>423.295990</td>\n",
              "      <td>389.882996</td>\n",
              "      <td>408.903992</td>\n",
              "      <td>408.903992</td>\n",
              "      <td>36863600</td>\n",
              "    </tr>\n",
              "    <tr>\n",
              "      <th>4</th>\n",
              "      <td>2014-09-21</td>\n",
              "      <td>408.084991</td>\n",
              "      <td>412.425995</td>\n",
              "      <td>393.181000</td>\n",
              "      <td>398.821014</td>\n",
              "      <td>398.821014</td>\n",
              "      <td>26580100</td>\n",
              "    </tr>\n",
              "    <tr>\n",
              "      <th>...</th>\n",
              "      <td>...</td>\n",
              "      <td>...</td>\n",
              "      <td>...</td>\n",
              "      <td>...</td>\n",
              "      <td>...</td>\n",
              "      <td>...</td>\n",
              "      <td>...</td>\n",
              "    </tr>\n",
              "    <tr>\n",
              "      <th>2742</th>\n",
              "      <td>2022-03-21</td>\n",
              "      <td>41246.132813</td>\n",
              "      <td>41454.410156</td>\n",
              "      <td>40668.042969</td>\n",
              "      <td>41077.996094</td>\n",
              "      <td>41077.996094</td>\n",
              "      <td>24615543271</td>\n",
              "    </tr>\n",
              "    <tr>\n",
              "      <th>2743</th>\n",
              "      <td>2022-03-22</td>\n",
              "      <td>41074.105469</td>\n",
              "      <td>43124.707031</td>\n",
              "      <td>40948.281250</td>\n",
              "      <td>42358.808594</td>\n",
              "      <td>42358.808594</td>\n",
              "      <td>32004652376</td>\n",
              "    </tr>\n",
              "    <tr>\n",
              "      <th>2744</th>\n",
              "      <td>2022-03-23</td>\n",
              "      <td>42364.378906</td>\n",
              "      <td>42893.507813</td>\n",
              "      <td>41877.507813</td>\n",
              "      <td>42892.957031</td>\n",
              "      <td>42892.957031</td>\n",
              "      <td>25242943069</td>\n",
              "    </tr>\n",
              "    <tr>\n",
              "      <th>2745</th>\n",
              "      <td>2022-03-24</td>\n",
              "      <td>42886.652344</td>\n",
              "      <td>44131.855469</td>\n",
              "      <td>42726.164063</td>\n",
              "      <td>43960.933594</td>\n",
              "      <td>43960.933594</td>\n",
              "      <td>31042992291</td>\n",
              "    </tr>\n",
              "    <tr>\n",
              "      <th>2746</th>\n",
              "      <td>2022-03-25</td>\n",
              "      <td>43958.675781</td>\n",
              "      <td>44982.519531</td>\n",
              "      <td>43711.871094</td>\n",
              "      <td>44395.964844</td>\n",
              "      <td>44395.964844</td>\n",
              "      <td>30379415552</td>\n",
              "    </tr>\n",
              "  </tbody>\n",
              "</table>\n",
              "<p>2747 rows × 7 columns</p>\n",
              "</div>\n",
              "      <button class=\"colab-df-convert\" onclick=\"convertToInteractive('df-c67dd30c-d2fa-48be-bdcd-2bb6bc053baf')\"\n",
              "              title=\"Convert this dataframe to an interactive table.\"\n",
              "              style=\"display:none;\">\n",
              "        \n",
              "  <svg xmlns=\"http://www.w3.org/2000/svg\" height=\"24px\"viewBox=\"0 0 24 24\"\n",
              "       width=\"24px\">\n",
              "    <path d=\"M0 0h24v24H0V0z\" fill=\"none\"/>\n",
              "    <path d=\"M18.56 5.44l.94 2.06.94-2.06 2.06-.94-2.06-.94-.94-2.06-.94 2.06-2.06.94zm-11 1L8.5 8.5l.94-2.06 2.06-.94-2.06-.94L8.5 2.5l-.94 2.06-2.06.94zm10 10l.94 2.06.94-2.06 2.06-.94-2.06-.94-.94-2.06-.94 2.06-2.06.94z\"/><path d=\"M17.41 7.96l-1.37-1.37c-.4-.4-.92-.59-1.43-.59-.52 0-1.04.2-1.43.59L10.3 9.45l-7.72 7.72c-.78.78-.78 2.05 0 2.83L4 21.41c.39.39.9.59 1.41.59.51 0 1.02-.2 1.41-.59l7.78-7.78 2.81-2.81c.8-.78.8-2.07 0-2.86zM5.41 20L4 18.59l7.72-7.72 1.47 1.35L5.41 20z\"/>\n",
              "  </svg>\n",
              "      </button>\n",
              "      \n",
              "  <style>\n",
              "    .colab-df-container {\n",
              "      display:flex;\n",
              "      flex-wrap:wrap;\n",
              "      gap: 12px;\n",
              "    }\n",
              "\n",
              "    .colab-df-convert {\n",
              "      background-color: #E8F0FE;\n",
              "      border: none;\n",
              "      border-radius: 50%;\n",
              "      cursor: pointer;\n",
              "      display: none;\n",
              "      fill: #1967D2;\n",
              "      height: 32px;\n",
              "      padding: 0 0 0 0;\n",
              "      width: 32px;\n",
              "    }\n",
              "\n",
              "    .colab-df-convert:hover {\n",
              "      background-color: #E2EBFA;\n",
              "      box-shadow: 0px 1px 2px rgba(60, 64, 67, 0.3), 0px 1px 3px 1px rgba(60, 64, 67, 0.15);\n",
              "      fill: #174EA6;\n",
              "    }\n",
              "\n",
              "    [theme=dark] .colab-df-convert {\n",
              "      background-color: #3B4455;\n",
              "      fill: #D2E3FC;\n",
              "    }\n",
              "\n",
              "    [theme=dark] .colab-df-convert:hover {\n",
              "      background-color: #434B5C;\n",
              "      box-shadow: 0px 1px 3px 1px rgba(0, 0, 0, 0.15);\n",
              "      filter: drop-shadow(0px 1px 2px rgba(0, 0, 0, 0.3));\n",
              "      fill: #FFFFFF;\n",
              "    }\n",
              "  </style>\n",
              "\n",
              "      <script>\n",
              "        const buttonEl =\n",
              "          document.querySelector('#df-c67dd30c-d2fa-48be-bdcd-2bb6bc053baf button.colab-df-convert');\n",
              "        buttonEl.style.display =\n",
              "          google.colab.kernel.accessAllowed ? 'block' : 'none';\n",
              "\n",
              "        async function convertToInteractive(key) {\n",
              "          const element = document.querySelector('#df-c67dd30c-d2fa-48be-bdcd-2bb6bc053baf');\n",
              "          const dataTable =\n",
              "            await google.colab.kernel.invokeFunction('convertToInteractive',\n",
              "                                                     [key], {});\n",
              "          if (!dataTable) return;\n",
              "\n",
              "          const docLinkHtml = 'Like what you see? Visit the ' +\n",
              "            '<a target=\"_blank\" href=https://colab.research.google.com/notebooks/data_table.ipynb>data table notebook</a>'\n",
              "            + ' to learn more about interactive tables.';\n",
              "          element.innerHTML = '';\n",
              "          dataTable['output_type'] = 'display_data';\n",
              "          await google.colab.output.renderOutput(dataTable, element);\n",
              "          const docLink = document.createElement('div');\n",
              "          docLink.innerHTML = docLinkHtml;\n",
              "          element.appendChild(docLink);\n",
              "        }\n",
              "      </script>\n",
              "    </div>\n",
              "  </div>\n",
              "  "
            ]
          },
          "metadata": {},
          "execution_count": 34
        }
      ]
    },
    {
      "cell_type": "code",
      "source": [
        "df['Open'].mean()\n",
        "print(df['Open'].mean())\n",
        "print(df['Open'].median())\n",
        "print(df['Open'].mode()[0])"
      ],
      "metadata": {
        "colab": {
          "base_uri": "https://localhost:8080/"
        },
        "id": "nrf31XHpwZoz",
        "outputId": "6eb90a3d-bd0e-4cca-ae97-4b328cda029f"
      },
      "execution_count": null,
      "outputs": [
        {
          "output_type": "stream",
          "name": "stdout",
          "text": [
            "11668.600272022568\n",
            "6371.850098\n",
            "233.421997\n"
          ]
        }
      ]
    },
    {
      "cell_type": "code",
      "source": [
        "df['Open'].quantile(np.arange(0.25,1,0.05))"
      ],
      "metadata": {
        "colab": {
          "base_uri": "https://localhost:8080/"
        },
        "id": "vK66mQDx9khP",
        "outputId": "5a863bf9-e2da-4d6c-85be-d7147da02be7"
      },
      "execution_count": null,
      "outputs": [
        {
          "output_type": "execute_result",
          "data": {
            "text/plain": [
              "0.25      609.122009\n",
              "0.30      789.586817\n",
              "0.35     1542.464001\n",
              "0.40     3630.420020\n",
              "0.45     4384.447119\n",
              "0.50     6371.850098\n",
              "0.55     7070.316894\n",
              "0.60     7985.100293\n",
              "0.65     8836.177148\n",
              "0.70     9620.122070\n",
              "0.75    10728.271484\n",
              "0.80    13549.667383\n",
              "0.85    33732.281250\n",
              "0.90    42215.165625\n",
              "0.95    50563.971094\n",
              "Name: Open, dtype: float64"
            ]
          },
          "metadata": {},
          "execution_count": 107
        }
      ]
    },
    {
      "cell_type": "code",
      "source": [
        "Open = df['Open']\n",
        "Q1 = Open.quantile(0.25)\n",
        "Q2 = Open.quantile(0.75)\n",
        "print(\"Q1 =\",Q1,\" Q2 =\", Q2)"
      ],
      "metadata": {
        "colab": {
          "base_uri": "https://localhost:8080/"
        },
        "id": "wmE0uGoP_DOr",
        "outputId": "010576d2-63dd-4d8e-9f5f-bc1a3fdae153"
      },
      "execution_count": null,
      "outputs": [
        {
          "output_type": "stream",
          "name": "stdout",
          "text": [
            "Q1 = 609.1220089999999  Q2 = 10728.271484500001\n"
          ]
        }
      ]
    },
    {
      "cell_type": "code",
      "source": [
        "IQR = Q2-Q1\n",
        "print(\"IQR =\", IQR)"
      ],
      "metadata": {
        "colab": {
          "base_uri": "https://localhost:8080/"
        },
        "id": "_F53s9p9_CjH",
        "outputId": "c641cdb7-b20c-47ec-a68a-55b2ff39da80"
      },
      "execution_count": null,
      "outputs": [
        {
          "output_type": "stream",
          "name": "stdout",
          "text": [
            "IQR = 10119.1494755\n"
          ]
        }
      ]
    },
    {
      "cell_type": "code",
      "source": [
        "print('limite inferior', Q1-(1.5*IQR))\n",
        "print('limite superior', Q2+(1.5*IQR))"
      ],
      "metadata": {
        "colab": {
          "base_uri": "https://localhost:8080/"
        },
        "id": "llDM79yuASzs",
        "outputId": "3b0b8d3f-734b-4f86-8261-fc8b4b83f7c8"
      },
      "execution_count": null,
      "outputs": [
        {
          "output_type": "stream",
          "name": "stdout",
          "text": [
            "limite inferior -14569.602204249999\n",
            "limite superior 25906.99569775\n"
          ]
        }
      ]
    },
    {
      "cell_type": "code",
      "source": [
        "df.dtypes"
      ],
      "metadata": {
        "colab": {
          "base_uri": "https://localhost:8080/"
        },
        "id": "-syBR2qVry5C",
        "outputId": "424ae56f-7856-477b-ff57-a8e607f8d6a6"
      },
      "execution_count": null,
      "outputs": [
        {
          "output_type": "execute_result",
          "data": {
            "text/plain": [
              "Date          object\n",
              "Open         float64\n",
              "High         float64\n",
              "Low          float64\n",
              "Close        float64\n",
              "Adj Close    float64\n",
              "Volume         int64\n",
              "dtype: object"
            ]
          },
          "metadata": {},
          "execution_count": 65
        }
      ]
    },
    {
      "cell_type": "code",
      "source": [
        "df.keys()"
      ],
      "metadata": {
        "colab": {
          "base_uri": "https://localhost:8080/"
        },
        "id": "WHM3khe0r_Gm",
        "outputId": "eaf6ec34-4c14-4edc-e026-5d33535982b5"
      },
      "execution_count": null,
      "outputs": [
        {
          "output_type": "execute_result",
          "data": {
            "text/plain": [
              "Index(['Date', 'Open', 'High', 'Low', 'Close', 'Adj Close', 'Volume'], dtype='object')"
            ]
          },
          "metadata": {},
          "execution_count": 66
        }
      ]
    },
    {
      "cell_type": "code",
      "source": [
        "df.describe()"
      ],
      "metadata": {
        "colab": {
          "base_uri": "https://localhost:8080/",
          "height": 300
        },
        "id": "Aw9WfEVM_jm1",
        "outputId": "123a97ed-f287-4d4e-cada-d7277a9fdb7c"
      },
      "execution_count": null,
      "outputs": [
        {
          "output_type": "execute_result",
          "data": {
            "text/plain": [
              "               Open          High           Low         Close     Adj Close  \\\n",
              "count   2747.000000   2747.000000   2747.000000   2747.000000   2747.000000   \n",
              "mean   11668.600272  11981.034949  11325.596907  11682.892098  11682.892098   \n",
              "std    16323.683853  16759.568657  15825.584507  16330.191582  16330.191582   \n",
              "min      176.897003    211.731003    171.509995    178.102997    178.102997   \n",
              "25%      609.122009    611.894501    606.309479    609.234009    609.234009   \n",
              "50%     6371.850098   6500.870117   6285.629883   6376.709961   6376.709961   \n",
              "75%    10728.271485  10992.468751  10412.890137  10755.395019  10755.395019   \n",
              "max    67549.734375  68789.625000  66382.062500  67566.828125  67566.828125   \n",
              "\n",
              "             Volume  \n",
              "count  2.747000e+03  \n",
              "mean   1.484704e+10  \n",
              "std    1.994819e+10  \n",
              "min    5.914570e+06  \n",
              "25%    8.161285e+07  \n",
              "50%    5.227550e+09  \n",
              "75%    2.500517e+10  \n",
              "max    3.509679e+11  "
            ],
            "text/html": [
              "\n",
              "  <div id=\"df-98d1c6a7-9500-47a0-9045-04f1b26a6652\">\n",
              "    <div class=\"colab-df-container\">\n",
              "      <div>\n",
              "<style scoped>\n",
              "    .dataframe tbody tr th:only-of-type {\n",
              "        vertical-align: middle;\n",
              "    }\n",
              "\n",
              "    .dataframe tbody tr th {\n",
              "        vertical-align: top;\n",
              "    }\n",
              "\n",
              "    .dataframe thead th {\n",
              "        text-align: right;\n",
              "    }\n",
              "</style>\n",
              "<table border=\"1\" class=\"dataframe\">\n",
              "  <thead>\n",
              "    <tr style=\"text-align: right;\">\n",
              "      <th></th>\n",
              "      <th>Open</th>\n",
              "      <th>High</th>\n",
              "      <th>Low</th>\n",
              "      <th>Close</th>\n",
              "      <th>Adj Close</th>\n",
              "      <th>Volume</th>\n",
              "    </tr>\n",
              "  </thead>\n",
              "  <tbody>\n",
              "    <tr>\n",
              "      <th>count</th>\n",
              "      <td>2747.000000</td>\n",
              "      <td>2747.000000</td>\n",
              "      <td>2747.000000</td>\n",
              "      <td>2747.000000</td>\n",
              "      <td>2747.000000</td>\n",
              "      <td>2.747000e+03</td>\n",
              "    </tr>\n",
              "    <tr>\n",
              "      <th>mean</th>\n",
              "      <td>11668.600272</td>\n",
              "      <td>11981.034949</td>\n",
              "      <td>11325.596907</td>\n",
              "      <td>11682.892098</td>\n",
              "      <td>11682.892098</td>\n",
              "      <td>1.484704e+10</td>\n",
              "    </tr>\n",
              "    <tr>\n",
              "      <th>std</th>\n",
              "      <td>16323.683853</td>\n",
              "      <td>16759.568657</td>\n",
              "      <td>15825.584507</td>\n",
              "      <td>16330.191582</td>\n",
              "      <td>16330.191582</td>\n",
              "      <td>1.994819e+10</td>\n",
              "    </tr>\n",
              "    <tr>\n",
              "      <th>min</th>\n",
              "      <td>176.897003</td>\n",
              "      <td>211.731003</td>\n",
              "      <td>171.509995</td>\n",
              "      <td>178.102997</td>\n",
              "      <td>178.102997</td>\n",
              "      <td>5.914570e+06</td>\n",
              "    </tr>\n",
              "    <tr>\n",
              "      <th>25%</th>\n",
              "      <td>609.122009</td>\n",
              "      <td>611.894501</td>\n",
              "      <td>606.309479</td>\n",
              "      <td>609.234009</td>\n",
              "      <td>609.234009</td>\n",
              "      <td>8.161285e+07</td>\n",
              "    </tr>\n",
              "    <tr>\n",
              "      <th>50%</th>\n",
              "      <td>6371.850098</td>\n",
              "      <td>6500.870117</td>\n",
              "      <td>6285.629883</td>\n",
              "      <td>6376.709961</td>\n",
              "      <td>6376.709961</td>\n",
              "      <td>5.227550e+09</td>\n",
              "    </tr>\n",
              "    <tr>\n",
              "      <th>75%</th>\n",
              "      <td>10728.271485</td>\n",
              "      <td>10992.468751</td>\n",
              "      <td>10412.890137</td>\n",
              "      <td>10755.395019</td>\n",
              "      <td>10755.395019</td>\n",
              "      <td>2.500517e+10</td>\n",
              "    </tr>\n",
              "    <tr>\n",
              "      <th>max</th>\n",
              "      <td>67549.734375</td>\n",
              "      <td>68789.625000</td>\n",
              "      <td>66382.062500</td>\n",
              "      <td>67566.828125</td>\n",
              "      <td>67566.828125</td>\n",
              "      <td>3.509679e+11</td>\n",
              "    </tr>\n",
              "  </tbody>\n",
              "</table>\n",
              "</div>\n",
              "      <button class=\"colab-df-convert\" onclick=\"convertToInteractive('df-98d1c6a7-9500-47a0-9045-04f1b26a6652')\"\n",
              "              title=\"Convert this dataframe to an interactive table.\"\n",
              "              style=\"display:none;\">\n",
              "        \n",
              "  <svg xmlns=\"http://www.w3.org/2000/svg\" height=\"24px\"viewBox=\"0 0 24 24\"\n",
              "       width=\"24px\">\n",
              "    <path d=\"M0 0h24v24H0V0z\" fill=\"none\"/>\n",
              "    <path d=\"M18.56 5.44l.94 2.06.94-2.06 2.06-.94-2.06-.94-.94-2.06-.94 2.06-2.06.94zm-11 1L8.5 8.5l.94-2.06 2.06-.94-2.06-.94L8.5 2.5l-.94 2.06-2.06.94zm10 10l.94 2.06.94-2.06 2.06-.94-2.06-.94-.94-2.06-.94 2.06-2.06.94z\"/><path d=\"M17.41 7.96l-1.37-1.37c-.4-.4-.92-.59-1.43-.59-.52 0-1.04.2-1.43.59L10.3 9.45l-7.72 7.72c-.78.78-.78 2.05 0 2.83L4 21.41c.39.39.9.59 1.41.59.51 0 1.02-.2 1.41-.59l7.78-7.78 2.81-2.81c.8-.78.8-2.07 0-2.86zM5.41 20L4 18.59l7.72-7.72 1.47 1.35L5.41 20z\"/>\n",
              "  </svg>\n",
              "      </button>\n",
              "      \n",
              "  <style>\n",
              "    .colab-df-container {\n",
              "      display:flex;\n",
              "      flex-wrap:wrap;\n",
              "      gap: 12px;\n",
              "    }\n",
              "\n",
              "    .colab-df-convert {\n",
              "      background-color: #E8F0FE;\n",
              "      border: none;\n",
              "      border-radius: 50%;\n",
              "      cursor: pointer;\n",
              "      display: none;\n",
              "      fill: #1967D2;\n",
              "      height: 32px;\n",
              "      padding: 0 0 0 0;\n",
              "      width: 32px;\n",
              "    }\n",
              "\n",
              "    .colab-df-convert:hover {\n",
              "      background-color: #E2EBFA;\n",
              "      box-shadow: 0px 1px 2px rgba(60, 64, 67, 0.3), 0px 1px 3px 1px rgba(60, 64, 67, 0.15);\n",
              "      fill: #174EA6;\n",
              "    }\n",
              "\n",
              "    [theme=dark] .colab-df-convert {\n",
              "      background-color: #3B4455;\n",
              "      fill: #D2E3FC;\n",
              "    }\n",
              "\n",
              "    [theme=dark] .colab-df-convert:hover {\n",
              "      background-color: #434B5C;\n",
              "      box-shadow: 0px 1px 3px 1px rgba(0, 0, 0, 0.15);\n",
              "      filter: drop-shadow(0px 1px 2px rgba(0, 0, 0, 0.3));\n",
              "      fill: #FFFFFF;\n",
              "    }\n",
              "  </style>\n",
              "\n",
              "      <script>\n",
              "        const buttonEl =\n",
              "          document.querySelector('#df-98d1c6a7-9500-47a0-9045-04f1b26a6652 button.colab-df-convert');\n",
              "        buttonEl.style.display =\n",
              "          google.colab.kernel.accessAllowed ? 'block' : 'none';\n",
              "\n",
              "        async function convertToInteractive(key) {\n",
              "          const element = document.querySelector('#df-98d1c6a7-9500-47a0-9045-04f1b26a6652');\n",
              "          const dataTable =\n",
              "            await google.colab.kernel.invokeFunction('convertToInteractive',\n",
              "                                                     [key], {});\n",
              "          if (!dataTable) return;\n",
              "\n",
              "          const docLinkHtml = 'Like what you see? Visit the ' +\n",
              "            '<a target=\"_blank\" href=https://colab.research.google.com/notebooks/data_table.ipynb>data table notebook</a>'\n",
              "            + ' to learn more about interactive tables.';\n",
              "          element.innerHTML = '';\n",
              "          dataTable['output_type'] = 'display_data';\n",
              "          await google.colab.output.renderOutput(dataTable, element);\n",
              "          const docLink = document.createElement('div');\n",
              "          docLink.innerHTML = docLinkHtml;\n",
              "          element.appendChild(docLink);\n",
              "        }\n",
              "      </script>\n",
              "    </div>\n",
              "  </div>\n",
              "  "
            ]
          },
          "metadata": {},
          "execution_count": 93
        }
      ]
    },
    {
      "cell_type": "markdown",
      "source": [
        "desviación estandar y varianza para la población\n",
        "\n",
        "ddof = 0 desviación estandar y varianza para una muestra. ddof =1"
      ],
      "metadata": {
        "id": "yKoehUF2UOXZ"
      }
    },
    {
      "cell_type": "code",
      "source": [
        "Open = df['Open']\n",
        "print(\"desviación estandar \", Open.std(ddof = 1))           #Definio variación estandar, muestral\n",
        "print(\"varianza\", Open.var(ddof = 1)) "
      ],
      "metadata": {
        "colab": {
          "base_uri": "https://localhost:8080/"
        },
        "id": "m6cEElDT_kpC",
        "outputId": "eab578f2-f4ea-4ca7-d8c4-df33f54bd6ee"
      },
      "execution_count": null,
      "outputs": [
        {
          "output_type": "stream",
          "name": "stdout",
          "text": [
            "desviación estandar  16323.683852968805\n",
            "varianza 266462654.5316745\n"
          ]
        }
      ]
    },
    {
      "cell_type": "code",
      "source": [
        "#poblacion = sobre datos estadisticos\n",
        "\n",
        "#datos de experimento hablamos de muestra"
      ],
      "metadata": {
        "id": "bBlaSJpk_kjX"
      },
      "execution_count": null,
      "outputs": []
    },
    {
      "cell_type": "code",
      "source": [
        "Open. quantile(np.arange(0.1,1,0.1))  #quantiles de 10% en 10%"
      ],
      "metadata": {
        "colab": {
          "base_uri": "https://localhost:8080/"
        },
        "id": "vztF-tsD_kzJ",
        "outputId": "4af1f740-e55d-4330-a0b1-c4dde4db5626"
      },
      "execution_count": null,
      "outputs": [
        {
          "output_type": "execute_result",
          "data": {
            "text/plain": [
              "0.1      285.135394\n",
              "0.2      433.277600\n",
              "0.3      789.586817\n",
              "0.4     3630.420020\n",
              "0.5     6371.850098\n",
              "0.6     7985.100293\n",
              "0.7     9620.122070\n",
              "0.8    13549.667383\n",
              "0.9    42215.165625\n",
              "Name: Open, dtype: float64"
            ]
          },
          "metadata": {},
          "execution_count": 55
        }
      ]
    },
    {
      "cell_type": "code",
      "source": [
        "df['High'].quantile(np.arange(0.1,1.1,0.1))     # No detecto datos con tendencia anomala"
      ],
      "metadata": {
        "colab": {
          "base_uri": "https://localhost:8080/"
        },
        "id": "yWCQ7JoX_k54",
        "outputId": "f954ec19-c9e3-4c5a-fa07-e08471ce8992"
      },
      "execution_count": null,
      "outputs": [
        {
          "output_type": "execute_result",
          "data": {
            "text/plain": [
              "0.1      291.892200\n",
              "0.2      440.187799\n",
              "0.3      794.511805\n",
              "0.4     3683.634278\n",
              "0.5     6500.870117\n",
              "0.6     8182.987891\n",
              "0.7     9784.499024\n",
              "0.8    13960.391797\n",
              "0.9    43050.576562\n",
              "1.0    68789.625000\n",
              "Name: High, dtype: float64"
            ]
          },
          "metadata": {},
          "execution_count": 56
        }
      ]
    },
    {
      "cell_type": "code",
      "source": [
        "df['Low']. quantile(np.arange(0.1,1.1,0.1))"
      ],
      "metadata": {
        "colab": {
          "base_uri": "https://localhost:8080/"
        },
        "id": "hZEGde1wmyY5",
        "outputId": "cc88ffa2-f4c2-48af-8d94-bee50122652a"
      },
      "execution_count": null,
      "outputs": [
        {
          "output_type": "execute_result",
          "data": {
            "text/plain": [
              "0.1      281.167804\n",
              "0.2      427.131202\n",
              "0.3      779.794995\n",
              "0.4     3583.835742\n",
              "0.5     6285.629883\n",
              "0.6     7778.951367\n",
              "0.7     9407.951953\n",
              "0.8    12970.497851\n",
              "0.9    41090.800000\n",
              "1.0    66382.062500\n",
              "Name: Low, dtype: float64"
            ]
          },
          "metadata": {},
          "execution_count": 60
        }
      ]
    },
    {
      "cell_type": "code",
      "source": [
        "df['Close']. quantile(np.arange(0.1,1.1,0.1))"
      ],
      "metadata": {
        "colab": {
          "base_uri": "https://localhost:8080/"
        },
        "id": "ymFoZZUgmzlt",
        "outputId": "c902cadd-3134-4f73-e41f-cf3294379c94"
      },
      "execution_count": null,
      "outputs": [
        {
          "output_type": "execute_result",
          "data": {
            "text/plain": [
              "0.1      285.437805\n",
              "0.2      433.451190\n",
              "0.3      790.769189\n",
              "0.4     3630.835986\n",
              "0.5     6376.709961\n",
              "0.6     7986.919043\n",
              "0.7     9629.859375\n",
              "0.8    13633.472852\n",
              "0.9    42246.901562\n",
              "1.0    67566.828125\n",
              "Name: Close, dtype: float64"
            ]
          },
          "metadata": {},
          "execution_count": 61
        }
      ]
    },
    {
      "cell_type": "code",
      "source": [
        "df['Adj Close']. quantile(np.arange(0.1,1.1,0.1))"
      ],
      "metadata": {
        "colab": {
          "base_uri": "https://localhost:8080/"
        },
        "id": "I-r3HSscmzjQ",
        "outputId": "01493131-5a35-4752-bc83-50da2eb386d7"
      },
      "execution_count": null,
      "outputs": [
        {
          "output_type": "execute_result",
          "data": {
            "text/plain": [
              "0.1      285.437805\n",
              "0.2      433.451190\n",
              "0.3      790.769189\n",
              "0.4     3630.835986\n",
              "0.5     6376.709961\n",
              "0.6     7986.919043\n",
              "0.7     9629.859375\n",
              "0.8    13633.472852\n",
              "0.9    42246.901562\n",
              "1.0    67566.828125\n",
              "Name: Adj Close, dtype: float64"
            ]
          },
          "metadata": {},
          "execution_count": 62
        }
      ]
    },
    {
      "cell_type": "code",
      "source": [
        "df['Volume']. quantile(np.arange(0.1,1.1,0.1))"
      ],
      "metadata": {
        "colab": {
          "base_uri": "https://localhost:8080/"
        },
        "id": "H1c-9p6smzg6",
        "outputId": "55e7bd03-1891-430b-a81c-335e49764355"
      },
      "execution_count": null,
      "outputs": [
        {
          "output_type": "execute_result",
          "data": {
            "text/plain": [
              "0.1    2.660084e+07\n",
              "0.2    6.021618e+07\n",
              "0.3    1.374764e+08\n",
              "0.4    1.971660e+09\n",
              "0.5    5.227550e+09\n",
              "0.6    1.313396e+10\n",
              "0.7    2.101566e+10\n",
              "0.8    3.017977e+10\n",
              "0.9    4.110050e+10\n",
              "1.0    3.509679e+11\n",
              "Name: Volume, dtype: float64"
            ]
          },
          "metadata": {},
          "execution_count": 63
        }
      ]
    },
    {
      "cell_type": "code",
      "source": [
        "df.keys()                                             #Llamamos las columnas\n",
        "\n",
        "fig, ax = plt.subplots(figsize = (50, 5))              \n",
        "sns.boxplot(data = df, x ='Open') "
      ],
      "metadata": {
        "colab": {
          "base_uri": "https://localhost:8080/",
          "height": 194
        },
        "id": "18k87THg_k_7",
        "outputId": "aa90d263-e179-42bd-a275-abf95ed19bbe"
      },
      "execution_count": null,
      "outputs": [
        {
          "output_type": "execute_result",
          "data": {
            "text/plain": [
              "<matplotlib.axes._subplots.AxesSubplot at 0x7fd489d35bd0>"
            ]
          },
          "metadata": {},
          "execution_count": 50
        },
        {
          "output_type": "display_data",
          "data": {
            "text/plain": [
              "<Figure size 3600x360 with 1 Axes>"
            ],
            "image/png": "[encoded data removed]"
          },
          "metadata": {
            "needs_background": "light"
          }
        }
      ]
    },
    {
      "cell_type": "code",
      "source": [
        "df.keys()\n",
        "\n",
        "fig, ax = plt.subplots(figsize = (50, 10))\n",
        "sns.boxplot(data = df, x ='Open')\n",
        "plt.axvline(Q2+(1.5*IQR), color=\"blue\",label=\"Lim. Superior\")\n",
        "plt.axvline(Q1-(1.5*IQR), color=\"red\",label=\"Lim. Inferior\")"
      ],
      "metadata": {
        "colab": {
          "base_uri": "https://localhost:8080/",
          "height": 331
        },
        "id": "zGJi5w5S_llb",
        "outputId": "0142bb70-f689-4337-935a-1e194ccf1a27"
      },
      "execution_count": null,
      "outputs": [
        {
          "output_type": "execute_result",
          "data": {
            "text/plain": [
              "<matplotlib.lines.Line2D at 0x7fd489537b50>"
            ]
          },
          "metadata": {},
          "execution_count": 117
        },
        {
          "output_type": "display_data",
          "data": {
            "text/plain": [
              "<Figure size 3600x720 with 1 Axes>"
            ],
            "image/png": "[encoded data removed]"
          },
          "metadata": {
            "needs_background": "light"
          }
        }
      ]
    },
    {
      "cell_type": "code",
      "source": [
        "print(\"coeficiente de asimetría \", df['Open'].skew( ))\n",
        "\n",
        "\n",
        "print(\"coeficiente de curtosis \",df['Open'].kurtosis())"
      ],
      "metadata": {
        "colab": {
          "base_uri": "https://localhost:8080/"
        },
        "id": "Ssr1OAPBDnr7",
        "outputId": "5b51d30a-8a7d-4cd9-c86a-dd35a0bebd23"
      },
      "execution_count": null,
      "outputs": [
        {
          "output_type": "stream",
          "name": "stdout",
          "text": [
            "coeficiente de asimetría  1.7651475944861714\n",
            "coeficiente de curtosis  1.8906193721070195\n"
          ]
        }
      ]
    },
    {
      "cell_type": "code",
      "source": [
        "sns.displot(df['Open'].values, color='darkblue', kde=True)\n",
        "plt.title('Open')\n",
        "plt.xlabel('')\n",
        "plt.ylabel('')\n",
        "\n",
        "plt.axvline(df['Open'].mean(), color='red', label='Promedio')\n",
        "plt.axvline(df['Open'].median(), color='purple', label='Promedio')\n",
        "plt.axvline(df['Open'].mode()[0], color='orange', label='Promedio')\n",
        "plt.axvline(2.5, color='yellow', label='Promedio')\n",
        "plt.legend()\n",
        "plt.show()"
      ],
      "metadata": {
        "colab": {
          "base_uri": "https://localhost:8080/",
          "height": 385
        },
        "id": "4E2Yo9jp_l0O",
        "outputId": "b07b010b-302b-49bd-e9f7-97a5ea18e717"
      },
      "execution_count": null,
      "outputs": [
        {
          "output_type": "display_data",
          "data": {
            "text/plain": [
              "<Figure size 360x360 with 1 Axes>"
            ],
            "image/png": "[encoded data removed]"
          },
          "metadata": {
            "needs_background": "light"
          }
        }
      ]
    },
    {
      "cell_type": "code",
      "source": [
        "df.keys()\n",
        "\n",
        "fig, ax = plt.subplots(figsize = (50, 10))\n",
        "sns.boxplot(data = df, x ='Open')\n",
        "plt.axvline(Q2+(1.5*IQR), color=\"blue\",label=\"Lim. Superior\")\n",
        "plt.axvline(Q1-(1.5*IQR), color=\"red\",label=\"Lim. Inferior\")"
      ],
      "metadata": {
        "colab": {
          "base_uri": "https://localhost:8080/",
          "height": 331
        },
        "id": "rQJXwqgBGLuZ",
        "outputId": "5f45d1ed-5da4-43da-f668-e616a767ebaa"
      },
      "execution_count": null,
      "outputs": [
        {
          "output_type": "execute_result",
          "data": {
            "text/plain": [
              "<matplotlib.lines.Line2D at 0x7fd4865bdb50>"
            ]
          },
          "metadata": {},
          "execution_count": 128
        },
        {
          "output_type": "display_data",
          "data": {
            "text/plain": [
              "<Figure size 3600x720 with 1 Axes>"
            ],
            "image/png": "[encoded data removed]"
          },
          "metadata": {
            "needs_background": "light"
          }
        }
      ]
    },
    {
      "cell_type": "code",
      "source": [
        "df_f2 = df[(df['Open'] < 10728) & (df['Open'] > 609)]\n",
        "fig, ax = plt.subplots(figsize = (50, 10))                       #fig = es el espacio\n",
        "fig_1 = sns.barplot(y=df_f2['High'], x=df_f2['Open'])            # ax = La linea del marco\n",
        "plt.show()\n",
        "fig = fig_1.get_figure()\n"
      ],
      "metadata": {
        "colab": {
          "base_uri": "https://localhost:8080/",
          "height": 305
        },
        "id": "Ndr5wSXxH9Um",
        "outputId": "679edbe4-4bd0-4eea-98bd-876377a7e8cf"
      },
      "execution_count": null,
      "outputs": [
        {
          "output_type": "display_data",
          "data": {
            "text/plain": [
              "<Figure size 3600x720 with 1 Axes>"
            ],
            "image/png": "[encoded data removed]"
          },
          "metadata": {
            "needs_background": "light"
          }
        }
      ]
    },
    {
      "cell_type": "code",
      "source": [],
      "metadata": {
        "id": "ocUWog-kJgt0"
      },
      "execution_count": null,
      "outputs": []
    }
  ]
}